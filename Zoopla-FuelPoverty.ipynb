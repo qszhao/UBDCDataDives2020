{
 "cells": [
  {
   "cell_type": "markdown",
   "metadata": {},
   "source": [
    "# UBDC Data Dives - Oct 20th, 2020\n",
    "# An exploration of fuel poverty in the private rental housing market in City of Glasgow\n",
    "## Dr. Qunshan Zhao, Lecturer in Urban Analytics, University of Glasgow\n",
    "\n",
    "## Part 1: Zoopla data cleaning and manipulation\n",
    "\n",
    "### Basic information of Zoopla data:\n",
    "\n",
    "### Zoopla is one of the largest UK online platfrom for house sale and rental activities, you can visit their official website through https://www.zoopla.co.uk/.\n",
    "### Zoopla data can be obtained through UBDC data services: \n",
    "### https://www.ubdc.ac.uk/data-services/data-catalogue/housing-data/zoopla-property-data/\n",
    "\n",
    "### Zoopla data time range: 01/01/2010 - 31/03/2019\n",
    "\n",
    "### Zoopla files: 188 csv, 44.3 GB\n",
    "\n",
    "### Coverage: Great Britain (England, Wales, Scotland) "
   ]
  },
  {
   "cell_type": "code",
   "execution_count": 29,
   "metadata": {},
   "outputs": [],
   "source": [
    "import pandas as pd\n",
    "import glob"
   ]
  },
  {
   "cell_type": "markdown",
   "metadata": {},
   "source": [
    "### Read Zoopla data into pandas dataframe"
   ]
  },
  {
   "cell_type": "code",
   "execution_count": 30,
   "metadata": {},
   "outputs": [],
   "source": [
    "path = r'D:\\UBDC Data\\Datasets\\Zoopla Property Listings\\safeguarded-release-zoopla-historical-all-uk-21032019\\all_uk'\n",
    "all_files = glob.glob(path + \"/*.csv\")\n",
    "\n",
    "li = []\n",
    "\n",
    "for filename in all_files:\n",
    "    df = pd.read_csv(filename, index_col=None, header=0)\n",
    "    li.append(df)\n",
    "\n",
    "frame = pd.concat(li, axis=0, ignore_index=True)"
   ]
  },
  {
   "cell_type": "code",
   "execution_count": 31,
   "metadata": {},
   "outputs": [
    {
     "data": {
      "text/html": [
       "<div>\n",
       "<style scoped>\n",
       "    .dataframe tbody tr th:only-of-type {\n",
       "        vertical-align: middle;\n",
       "    }\n",
       "\n",
       "    .dataframe tbody tr th {\n",
       "        vertical-align: top;\n",
       "    }\n",
       "\n",
       "    .dataframe thead th {\n",
       "        text-align: right;\n",
       "    }\n",
       "</style>\n",
       "<table border=\"1\" class=\"dataframe\">\n",
       "  <thead>\n",
       "    <tr style=\"text-align: right;\">\n",
       "      <th></th>\n",
       "      <th>listing_id</th>\n",
       "      <th>property_id</th>\n",
       "      <th>ttwa11nm</th>\n",
       "      <th>ttwa11cd</th>\n",
       "      <th>plan_no</th>\n",
       "      <th>extract_date</th>\n",
       "      <th>result_count</th>\n",
       "      <th>details_url</th>\n",
       "      <th>description</th>\n",
       "      <th>short_description</th>\n",
       "      <th>...</th>\n",
       "      <th>image_url</th>\n",
       "      <th>thumbnail_url</th>\n",
       "      <th>image_caption</th>\n",
       "      <th>original_image_list</th>\n",
       "      <th>other_image_list</th>\n",
       "      <th>other_image_desc_list</th>\n",
       "      <th>document_list</th>\n",
       "      <th>epc_list</th>\n",
       "      <th>virtual_tour_list</th>\n",
       "      <th>floor_plan_list</th>\n",
       "    </tr>\n",
       "  </thead>\n",
       "  <tbody>\n",
       "    <tr>\n",
       "      <th>0</th>\n",
       "      <td>45072996</td>\n",
       "      <td>10001276</td>\n",
       "      <td>NaN</td>\n",
       "      <td>NaN</td>\n",
       "      <td>NaN</td>\n",
       "      <td>NaN</td>\n",
       "      <td>1</td>\n",
       "      <td>https://www.zoopla.co.uk/property-history/the-...</td>\n",
       "      <td>An attractive four bedroom detached 1920's hou...</td>\n",
       "      <td>An attractive four bedroom detached 1920's hou...</td>\n",
       "      <td>...</td>\n",
       "      <td>https://lid.zoocdn.com/354/255/7ccf354fb6a118c...</td>\n",
       "      <td>https://lid.zoocdn.com/80/60/7ccf354fb6a118c02...</td>\n",
       "      <td>Front</td>\n",
       "      <td>https://lc.zoocdn.com/7ccf354fb6a118c020efbaa8...</td>\n",
       "      <td>https://lid.zoocdn.com/354/255/e5e8dd93fa31bef...</td>\n",
       "      <td>Lounge|Kitchen|Dining Room|Bedroom 2|Garden|Ga...</td>\n",
       "      <td>NaN</td>\n",
       "      <td>NaN</td>\n",
       "      <td>NaN</td>\n",
       "      <td>https://lc.zoocdn.com/a96604487ab291416a3d6eb6...</td>\n",
       "    </tr>\n",
       "    <tr>\n",
       "      <th>1</th>\n",
       "      <td>45878620</td>\n",
       "      <td>10004514</td>\n",
       "      <td>NaN</td>\n",
       "      <td>NaN</td>\n",
       "      <td>NaN</td>\n",
       "      <td>NaN</td>\n",
       "      <td>1</td>\n",
       "      <td>https://www.zoopla.co.uk/property-history/27-n...</td>\n",
       "      <td>A beautifully presented period cottage full of...</td>\n",
       "      <td>&lt;p class=\"top\"&gt;A beautifully presented period ...</td>\n",
       "      <td>...</td>\n",
       "      <td>https://lid.zoocdn.com/354/255/7277f68e34cd824...</td>\n",
       "      <td>https://lid.zoocdn.com/80/60/7277f68e34cd824f7...</td>\n",
       "      <td>Front</td>\n",
       "      <td>https://lc.zoocdn.com/7277f68e34cd824f7935a1c9...</td>\n",
       "      <td>https://lid.zoocdn.com/354/255/15d1a4d9e8cc86e...</td>\n",
       "      <td>Living Room|Kitchen|Garden|Dining Area|Bedroom...</td>\n",
       "      <td>NaN</td>\n",
       "      <td>NaN</td>\n",
       "      <td>NaN</td>\n",
       "      <td>https://lc.zoocdn.com/27e32788eefcd08dc8b823a2...</td>\n",
       "    </tr>\n",
       "    <tr>\n",
       "      <th>2</th>\n",
       "      <td>44332648</td>\n",
       "      <td>10004933</td>\n",
       "      <td>NaN</td>\n",
       "      <td>NaN</td>\n",
       "      <td>NaN</td>\n",
       "      <td>NaN</td>\n",
       "      <td>1</td>\n",
       "      <td>https://www.zoopla.co.uk/property-history/5/av...</td>\n",
       "      <td>The property has been finished to a high speci...</td>\n",
       "      <td>A brand new one double bedroom executive style...</td>\n",
       "      <td>...</td>\n",
       "      <td>https://lid.zoocdn.com/354/255/56256e3b0874b13...</td>\n",
       "      <td>https://lid.zoocdn.com/80/60/56256e3b0874b1382...</td>\n",
       "      <td>Main</td>\n",
       "      <td>https://lc.zoocdn.com/56256e3b0874b13828a80533...</td>\n",
       "      <td>https://lid.zoocdn.com/354/255/0143e8fbb192c4c...</td>\n",
       "      <td>Living Room|Open-Plan Kitchen|Inner Hall|Doubl...</td>\n",
       "      <td>NaN</td>\n",
       "      <td>NaN</td>\n",
       "      <td>NaN</td>\n",
       "      <td>NaN</td>\n",
       "    </tr>\n",
       "    <tr>\n",
       "      <th>3</th>\n",
       "      <td>45194644</td>\n",
       "      <td>10006862</td>\n",
       "      <td>NaN</td>\n",
       "      <td>NaN</td>\n",
       "      <td>NaN</td>\n",
       "      <td>NaN</td>\n",
       "      <td>1</td>\n",
       "      <td>https://www.zoopla.co.uk/property-history/denm...</td>\n",
       "      <td>The accommodation is located over two floors a...</td>\n",
       "      <td>The accommodation is located over two floors a...</td>\n",
       "      <td>...</td>\n",
       "      <td>https://lid.zoocdn.com/354/255/1e1ad2a0edc1a70...</td>\n",
       "      <td>https://lid.zoocdn.com/80/60/1e1ad2a0edc1a709d...</td>\n",
       "      <td>Front</td>\n",
       "      <td>https://lc.zoocdn.com/1e1ad2a0edc1a709dac1d231...</td>\n",
       "      <td>https://lid.zoocdn.com/354/255/0b6d41fdcfbd8e9...</td>\n",
       "      <td>Lounge|Rear Views|Lounge|Dining Room|Kitchen|B...</td>\n",
       "      <td>NaN</td>\n",
       "      <td>https://lc.zoocdn.com/6d83318f27040130182dac9c...</td>\n",
       "      <td>https://vid.audioagent.com/DKjvxJkK</td>\n",
       "      <td>https://lc.zoocdn.com/abbb15a7a8fd0542f8d217b2...</td>\n",
       "    </tr>\n",
       "    <tr>\n",
       "      <th>4</th>\n",
       "      <td>45200783</td>\n",
       "      <td>10007177</td>\n",
       "      <td>NaN</td>\n",
       "      <td>NaN</td>\n",
       "      <td>NaN</td>\n",
       "      <td>NaN</td>\n",
       "      <td>1</td>\n",
       "      <td>https://www.zoopla.co.uk/property-history/319-...</td>\n",
       "      <td>A stunning character cottage located in Brookw...</td>\n",
       "      <td>A stunning character cottage located in Brookw...</td>\n",
       "      <td>...</td>\n",
       "      <td>https://lid.zoocdn.com/354/255/ca9b55ef83528e7...</td>\n",
       "      <td>https://lid.zoocdn.com/80/60/ca9b55ef83528e76f...</td>\n",
       "      <td>Picture No. 24</td>\n",
       "      <td>https://lc.zoocdn.com/ca9b55ef83528e76f9add9bd...</td>\n",
       "      <td>https://lid.zoocdn.com/354/255/1ab1d478d8a950e...</td>\n",
       "      <td>Picture No. 22|Picture No. 04|Picture No. 05|P...</td>\n",
       "      <td>http://seymours.reapitcloud.com/seyrps/pdf.php...</td>\n",
       "      <td>NaN</td>\n",
       "      <td>NaN</td>\n",
       "      <td>https://lc.zoocdn.com/9b2aec58b11b343c1c2f5d10...</td>\n",
       "    </tr>\n",
       "  </tbody>\n",
       "</table>\n",
       "<p>5 rows × 52 columns</p>\n",
       "</div>"
      ],
      "text/plain": [
       "   listing_id  property_id ttwa11nm ttwa11cd plan_no  extract_date  \\\n",
       "0    45072996     10001276      NaN      NaN     NaN           NaN   \n",
       "1    45878620     10004514      NaN      NaN     NaN           NaN   \n",
       "2    44332648     10004933      NaN      NaN     NaN           NaN   \n",
       "3    45194644     10006862      NaN      NaN     NaN           NaN   \n",
       "4    45200783     10007177      NaN      NaN     NaN           NaN   \n",
       "\n",
       "   result_count                                        details_url  \\\n",
       "0             1  https://www.zoopla.co.uk/property-history/the-...   \n",
       "1             1  https://www.zoopla.co.uk/property-history/27-n...   \n",
       "2             1  https://www.zoopla.co.uk/property-history/5/av...   \n",
       "3             1  https://www.zoopla.co.uk/property-history/denm...   \n",
       "4             1  https://www.zoopla.co.uk/property-history/319-...   \n",
       "\n",
       "                                         description  \\\n",
       "0  An attractive four bedroom detached 1920's hou...   \n",
       "1  A beautifully presented period cottage full of...   \n",
       "2  The property has been finished to a high speci...   \n",
       "3  The accommodation is located over two floors a...   \n",
       "4  A stunning character cottage located in Brookw...   \n",
       "\n",
       "                                   short_description  ...  \\\n",
       "0  An attractive four bedroom detached 1920's hou...  ...   \n",
       "1  <p class=\"top\">A beautifully presented period ...  ...   \n",
       "2  A brand new one double bedroom executive style...  ...   \n",
       "3  The accommodation is located over two floors a...  ...   \n",
       "4  A stunning character cottage located in Brookw...  ...   \n",
       "\n",
       "                                           image_url  \\\n",
       "0  https://lid.zoocdn.com/354/255/7ccf354fb6a118c...   \n",
       "1  https://lid.zoocdn.com/354/255/7277f68e34cd824...   \n",
       "2  https://lid.zoocdn.com/354/255/56256e3b0874b13...   \n",
       "3  https://lid.zoocdn.com/354/255/1e1ad2a0edc1a70...   \n",
       "4  https://lid.zoocdn.com/354/255/ca9b55ef83528e7...   \n",
       "\n",
       "                                       thumbnail_url   image_caption  \\\n",
       "0  https://lid.zoocdn.com/80/60/7ccf354fb6a118c02...           Front   \n",
       "1  https://lid.zoocdn.com/80/60/7277f68e34cd824f7...           Front   \n",
       "2  https://lid.zoocdn.com/80/60/56256e3b0874b1382...            Main   \n",
       "3  https://lid.zoocdn.com/80/60/1e1ad2a0edc1a709d...           Front   \n",
       "4  https://lid.zoocdn.com/80/60/ca9b55ef83528e76f...  Picture No. 24   \n",
       "\n",
       "                                 original_image_list  \\\n",
       "0  https://lc.zoocdn.com/7ccf354fb6a118c020efbaa8...   \n",
       "1  https://lc.zoocdn.com/7277f68e34cd824f7935a1c9...   \n",
       "2  https://lc.zoocdn.com/56256e3b0874b13828a80533...   \n",
       "3  https://lc.zoocdn.com/1e1ad2a0edc1a709dac1d231...   \n",
       "4  https://lc.zoocdn.com/ca9b55ef83528e76f9add9bd...   \n",
       "\n",
       "                                    other_image_list  \\\n",
       "0  https://lid.zoocdn.com/354/255/e5e8dd93fa31bef...   \n",
       "1  https://lid.zoocdn.com/354/255/15d1a4d9e8cc86e...   \n",
       "2  https://lid.zoocdn.com/354/255/0143e8fbb192c4c...   \n",
       "3  https://lid.zoocdn.com/354/255/0b6d41fdcfbd8e9...   \n",
       "4  https://lid.zoocdn.com/354/255/1ab1d478d8a950e...   \n",
       "\n",
       "                               other_image_desc_list  \\\n",
       "0  Lounge|Kitchen|Dining Room|Bedroom 2|Garden|Ga...   \n",
       "1  Living Room|Kitchen|Garden|Dining Area|Bedroom...   \n",
       "2  Living Room|Open-Plan Kitchen|Inner Hall|Doubl...   \n",
       "3  Lounge|Rear Views|Lounge|Dining Room|Kitchen|B...   \n",
       "4  Picture No. 22|Picture No. 04|Picture No. 05|P...   \n",
       "\n",
       "                                       document_list  \\\n",
       "0                                                NaN   \n",
       "1                                                NaN   \n",
       "2                                                NaN   \n",
       "3                                                NaN   \n",
       "4  http://seymours.reapitcloud.com/seyrps/pdf.php...   \n",
       "\n",
       "                                            epc_list  \\\n",
       "0                                                NaN   \n",
       "1                                                NaN   \n",
       "2                                                NaN   \n",
       "3  https://lc.zoocdn.com/6d83318f27040130182dac9c...   \n",
       "4                                                NaN   \n",
       "\n",
       "                     virtual_tour_list  \\\n",
       "0                                  NaN   \n",
       "1                                  NaN   \n",
       "2                                  NaN   \n",
       "3  https://vid.audioagent.com/DKjvxJkK   \n",
       "4                                  NaN   \n",
       "\n",
       "                                     floor_plan_list  \n",
       "0  https://lc.zoocdn.com/a96604487ab291416a3d6eb6...  \n",
       "1  https://lc.zoocdn.com/27e32788eefcd08dc8b823a2...  \n",
       "2                                                NaN  \n",
       "3  https://lc.zoocdn.com/abbb15a7a8fd0542f8d217b2...  \n",
       "4  https://lc.zoocdn.com/9b2aec58b11b343c1c2f5d10...  \n",
       "\n",
       "[5 rows x 52 columns]"
      ]
     },
     "execution_count": 31,
     "metadata": {},
     "output_type": "execute_result"
    }
   ],
   "source": [
    "frame.head()"
   ]
  },
  {
   "cell_type": "code",
   "execution_count": 32,
   "metadata": {},
   "outputs": [
    {
     "data": {
      "text/plain": [
       "(13132108, 52)"
      ]
     },
     "execution_count": 32,
     "metadata": {},
     "output_type": "execute_result"
    }
   ],
   "source": [
    "frame.shape"
   ]
  },
  {
   "cell_type": "markdown",
   "metadata": {},
   "source": [
    "### Filter the data to Glasgow region"
   ]
  },
  {
   "cell_type": "code",
   "execution_count": 33,
   "metadata": {},
   "outputs": [],
   "source": [
    "Glasgow = frame[frame.post_town == 'Glasgow']"
   ]
  },
  {
   "cell_type": "code",
   "execution_count": 34,
   "metadata": {},
   "outputs": [
    {
     "data": {
      "text/plain": [
       "(124006, 52)"
      ]
     },
     "execution_count": 34,
     "metadata": {},
     "output_type": "execute_result"
    }
   ],
   "source": [
    "Glasgow.shape"
   ]
  },
  {
   "cell_type": "markdown",
   "metadata": {},
   "source": [
    "### Further filter the data to Glasgow City based on postcode"
   ]
  },
  {
   "cell_type": "code",
   "execution_count": null,
   "metadata": {},
   "outputs": [],
   "source": [
    "# Filter rows based on column value in pandas:\n",
    "# https://cmdlinetips.com/2018/02/how-to-subset-pandas-dataframe-based-on-values-of-a-column/\n",
    "# Glasgow City postcode\n",
    "# https://en.wikipedia.org/wiki/G_postcode_area\n",
    "GlasgowCityPostCode = ['G1', 'G2','G3', 'G4','G5', 'G11','G12', 'G13','G14', 'G15','G20', 'G21','G22', 'G23','G31', 'G32', 'G33', 'G34','G40', 'G41','G42', 'G43','G44', 'G45','G46', 'G51','G52', 'G53']\n",
    "GlasgowCity = Glasgow[Glasgow.outcode.isin(GlasgowCityPostCode)]"
   ]
  },
  {
   "cell_type": "code",
   "execution_count": 38,
   "metadata": {},
   "outputs": [
    {
     "data": {
      "text/plain": [
       "(71496, 52)"
      ]
     },
     "execution_count": 38,
     "metadata": {},
     "output_type": "execute_result"
    }
   ],
   "source": [
    "GlasgowCity.shape"
   ]
  },
  {
   "cell_type": "markdown",
   "metadata": {},
   "source": [
    "### Since we are interested in the private rental market in this analysis, we only focus on rental properties. "
   ]
  },
  {
   "cell_type": "code",
   "execution_count": null,
   "metadata": {},
   "outputs": [],
   "source": [
    "GlasgowCityRent = GlasgowCity[GlasgowCity.listing_status == 'rent']"
   ]
  },
  {
   "cell_type": "code",
   "execution_count": 40,
   "metadata": {},
   "outputs": [
    {
     "data": {
      "text/plain": [
       "(17647, 52)"
      ]
     },
     "execution_count": 40,
     "metadata": {},
     "output_type": "execute_result"
    }
   ],
   "source": [
    "GlasgowCityRent.shape"
   ]
  },
  {
   "cell_type": "markdown",
   "metadata": {},
   "source": [
    "### Now we start to do some data cleaning. First print all the column names here. "
   ]
  },
  {
   "cell_type": "code",
   "execution_count": 42,
   "metadata": {},
   "outputs": [
    {
     "name": "stdout",
     "output_type": "stream",
     "text": [
      "['listing_id' 'property_id' 'ttwa11nm' 'ttwa11cd' 'plan_no' 'extract_date'\n",
      " 'result_count' 'details_url' 'description' 'short_description'\n",
      " 'bullet_list' 'outcode' 'incode' 'price' 'price_change'\n",
      " 'price_change_percent_list' 'price_change_date_list'\n",
      " 'price_change_direction_list' 'price_change_summary.percent'\n",
      " 'price_change_summary.direction' 'price_change_summary.last_updated_date'\n",
      " 'first_marketed_date' 'last_marketed_date' 'street_name'\n",
      " 'property_number' 'property_type' 'category' 'num_bedrooms' 'num_floors'\n",
      " 'num_bathrooms' 'num_recepts' 'county' 'country' 'post_town'\n",
      " 'displayable_address' 'agent_address' 'agent_postcode' 'agent_name'\n",
      " 'agent_logo' 'listing_status' 'status' 'branch_id' 'image_url'\n",
      " 'thumbnail_url' 'image_caption' 'original_image_list' 'other_image_list'\n",
      " 'other_image_desc_list' 'document_list' 'epc_list' 'virtual_tour_list'\n",
      " 'floor_plan_list']\n"
     ]
    }
   ],
   "source": [
    "print(GlasgowCityRent.columns.values)"
   ]
  },
  {
   "cell_type": "markdown",
   "metadata": {},
   "source": [
    "### We use last_marketed_date as the final date for each of the posting. N/A value exists in this column and we need to remove it. "
   ]
  },
  {
   "cell_type": "code",
   "execution_count": 227,
   "metadata": {},
   "outputs": [
    {
     "data": {
      "text/plain": [
       "count                   17647\n",
       "unique                   9043\n",
       "top       0000-00-00 00:00:00\n",
       "freq                     1572\n",
       "Name: last_marketed_date, dtype: object"
      ]
     },
     "execution_count": 227,
     "metadata": {},
     "output_type": "execute_result"
    }
   ],
   "source": [
    "GlasgowCityRent.last_marketed_date.describe()"
   ]
  },
  {
   "cell_type": "code",
   "execution_count": 300,
   "metadata": {},
   "outputs": [],
   "source": [
    "GlasgowCityRent_R1 = GlasgowCityRent[GlasgowCityRent.last_marketed_date != '0000-00-00 00:00:00']"
   ]
  },
  {
   "cell_type": "code",
   "execution_count": 228,
   "metadata": {},
   "outputs": [
    {
     "data": {
      "text/plain": [
       "(16075, 52)"
      ]
     },
     "execution_count": 228,
     "metadata": {},
     "output_type": "execute_result"
    }
   ],
   "source": [
    "GlasgowCityRent_R1.shape"
   ]
  },
  {
   "cell_type": "markdown",
   "metadata": {},
   "source": [
    "### Convert pandas series to datetime format"
   ]
  },
  {
   "cell_type": "code",
   "execution_count": 46,
   "metadata": {},
   "outputs": [
    {
     "name": "stderr",
     "output_type": "stream",
     "text": [
      "C:\\ProgramData\\Anaconda3\\lib\\site-packages\\ipykernel_launcher.py:2: SettingWithCopyWarning: \n",
      "A value is trying to be set on a copy of a slice from a DataFrame.\n",
      "Try using .loc[row_indexer,col_indexer] = value instead\n",
      "\n",
      "See the caveats in the documentation: http://pandas.pydata.org/pandas-docs/stable/indexing.html#indexing-view-versus-copy\n",
      "  \n"
     ]
    }
   ],
   "source": [
    "# https://stackoverflow.com/questions/28133018/convert-pandas-series-to-datetime-in-a-dataframe\n",
    "GlasgowCityRent_R1[\"last_marketed_date\"] = pd.to_datetime(GlasgowCityRent_R1[\"last_marketed_date\"])"
   ]
  },
  {
   "cell_type": "markdown",
   "metadata": {},
   "source": [
    "### Analyze bedroom numbers"
   ]
  },
  {
   "cell_type": "code",
   "execution_count": 48,
   "metadata": {},
   "outputs": [
    {
     "data": {
      "text/plain": [
       "0      143\n",
       "1     4808\n",
       "2     8000\n",
       "3     2459\n",
       "4      478\n",
       "5      157\n",
       "6       23\n",
       "7        5\n",
       "8        1\n",
       "22       1\n",
       "Name: num_bedrooms, dtype: int64"
      ]
     },
     "execution_count": 48,
     "metadata": {},
     "output_type": "execute_result"
    }
   ],
   "source": [
    "GlasgowCityRent_R1['num_bedrooms'].value_counts().sort_index()"
   ]
  },
  {
   "cell_type": "markdown",
   "metadata": {},
   "source": [
    "### I only keep bedroom numbers range from 1-5 to remove outliers. Overall I only remove slightly more than 1% of the data. "
   ]
  },
  {
   "cell_type": "code",
   "execution_count": 49,
   "metadata": {},
   "outputs": [],
   "source": [
    "Num_bedrooms = [1,2,3,4,5]\n",
    "GlasgowCityRent_R2 = GlasgowCityRent_R1[GlasgowCityRent_R1.num_bedrooms.isin(Num_bedrooms)]"
   ]
  },
  {
   "cell_type": "code",
   "execution_count": 50,
   "metadata": {},
   "outputs": [
    {
     "data": {
      "text/plain": [
       "(15902, 52)"
      ]
     },
     "execution_count": 50,
     "metadata": {},
     "output_type": "execute_result"
    }
   ],
   "source": [
    "GlasgowCityRent_R2.shape"
   ]
  },
  {
   "cell_type": "code",
   "execution_count": 51,
   "metadata": {},
   "outputs": [
    {
     "data": {
      "text/plain": [
       "1    4808\n",
       "2    8000\n",
       "3    2459\n",
       "4     478\n",
       "5     157\n",
       "Name: num_bedrooms, dtype: int64"
      ]
     },
     "execution_count": 51,
     "metadata": {},
     "output_type": "execute_result"
    }
   ],
   "source": [
    "GlasgowCityRent_R2['num_bedrooms'].value_counts().sort_index()"
   ]
  },
  {
   "cell_type": "markdown",
   "metadata": {},
   "source": [
    "### Here we show the rental status. In the Zoopla data, we have three status including rental under offer, rented, or to be rented. I used all the data in this analysis and assumed all the rental properties has been rented out eventually. "
   ]
  },
  {
   "cell_type": "code",
   "execution_count": 231,
   "metadata": {},
   "outputs": [
    {
     "data": {
      "text/plain": [
       "rent_under_offer    1251\n",
       "rented              4779\n",
       "to_rent             9872\n",
       "Name: status, dtype: int64"
      ]
     },
     "execution_count": 231,
     "metadata": {},
     "output_type": "execute_result"
    }
   ],
   "source": [
    "GlasgowCityRent_R2['status'].value_counts().sort_index()"
   ]
  },
  {
   "cell_type": "markdown",
   "metadata": {},
   "source": [
    "### Here I further clean the data based on time. Since the Scottish EPC data has a range from Oct 2012 - Mar 2020. I cleaned the Zoopla data to Jan 2013 - Dec 2018 to ensure the same time coverage with EPC data. \n",
    "\n",
    "### It is worth mentioned that I do not separate different years in this analysis, which can be done in the future analysis."
   ]
  },
  {
   "cell_type": "code",
   "execution_count": 232,
   "metadata": {},
   "outputs": [
    {
     "data": {
      "text/plain": [
       "2010       1\n",
       "2011      39\n",
       "2012     996\n",
       "2013    3016\n",
       "2014    3802\n",
       "2015    2571\n",
       "2016    2551\n",
       "2017    2220\n",
       "2018     693\n",
       "2019      13\n",
       "Name: last_marketed_date, dtype: int64"
      ]
     },
     "execution_count": 232,
     "metadata": {},
     "output_type": "execute_result"
    }
   ],
   "source": [
    "GlasgowCityRent_R2['last_marketed_date'].dt.year.value_counts().sort_index()"
   ]
  },
  {
   "cell_type": "code",
   "execution_count": 233,
   "metadata": {},
   "outputs": [],
   "source": [
    "Year = [2013,2014,2015,2016,2017,2018]\n",
    "GlasgowCityRent_R3 = GlasgowCityRent_R2[GlasgowCityRent_R2['last_marketed_date'].dt.year.isin(Year)]"
   ]
  },
  {
   "cell_type": "code",
   "execution_count": 234,
   "metadata": {},
   "outputs": [
    {
     "data": {
      "text/plain": [
       "2013    3016\n",
       "2014    3802\n",
       "2015    2571\n",
       "2016    2551\n",
       "2017    2220\n",
       "2018     693\n",
       "Name: last_marketed_date, dtype: int64"
      ]
     },
     "execution_count": 234,
     "metadata": {},
     "output_type": "execute_result"
    }
   ],
   "source": [
    "GlasgowCityRent_R3['last_marketed_date'].dt.year.value_counts().sort_index()"
   ]
  },
  {
   "cell_type": "code",
   "execution_count": 235,
   "metadata": {},
   "outputs": [
    {
     "data": {
      "text/plain": [
       "(14853, 52)"
      ]
     },
     "execution_count": 235,
     "metadata": {},
     "output_type": "execute_result"
    }
   ],
   "source": [
    "GlasgowCityRent_R3.shape"
   ]
  },
  {
   "cell_type": "markdown",
   "metadata": {},
   "source": [
    "### Since Zoopla provides the weekly rental price in their dataset, it makes less sense to include very large rental price since they can be either errors or outliers (huge villa or expensive houses, etc.). I set the weekly rental price < 500 and it removes top 1% outliers from the dataset. "
   ]
  },
  {
   "cell_type": "code",
   "execution_count": 237,
   "metadata": {},
   "outputs": [
    {
     "data": {
      "text/plain": [
       "4190072     87692\n",
       "4119587     69000\n",
       "4153832     57692\n",
       "4153712     56538\n",
       "3841656     49615\n",
       "3677648     47308\n",
       "3812353     45692\n",
       "3735830     45000\n",
       "3876300     43835\n",
       "4154282     43615\n",
       "3703335     41308\n",
       "3680114     40385\n",
       "138817      38077\n",
       "12401422    36692\n",
       "3703797     34154\n",
       "6405654     32308\n",
       "4049207     29999\n",
       "4084881     28846\n",
       "4734112     28845\n",
       "3735985     27692\n",
       "4088215     26538\n",
       "3734481     25385\n",
       "3878914     25154\n",
       "4193016     24692\n",
       "4120007     24231\n",
       "7440763     23065\n",
       "3677488     21923\n",
       "3734271     21923\n",
       "3805002     21450\n",
       "3676391     19615\n",
       "            ...  \n",
       "3767604        65\n",
       "3909164        65\n",
       "3836786        63\n",
       "3836788        63\n",
       "3836787        63\n",
       "4118337        62\n",
       "4189087        61\n",
       "3768031        60\n",
       "3768020        60\n",
       "3768028        60\n",
       "3768030        60\n",
       "3877207        58\n",
       "6947060        58\n",
       "3836785        58\n",
       "4015984        58\n",
       "3736184        58\n",
       "3911130        57\n",
       "7645534        57\n",
       "6405649        55\n",
       "6405648        55\n",
       "3739453        53\n",
       "7012380        46\n",
       "4048122        46\n",
       "4116503        46\n",
       "6947056        45\n",
       "6947057        45\n",
       "4189670        37\n",
       "3770011        32\n",
       "3905805        23\n",
       "2418083        23\n",
       "Name: price, Length: 14853, dtype: int64"
      ]
     },
     "execution_count": 237,
     "metadata": {},
     "output_type": "execute_result"
    }
   ],
   "source": [
    "GlasgowCityRent_R3['price'].sort_values(ascending=False)"
   ]
  },
  {
   "cell_type": "code",
   "execution_count": 301,
   "metadata": {},
   "outputs": [],
   "source": [
    "GlasgowCityRent_R4 = GlasgowCityRent_R3[GlasgowCityRent_R3.price < 500]"
   ]
  },
  {
   "cell_type": "code",
   "execution_count": 302,
   "metadata": {},
   "outputs": [
    {
     "data": {
      "text/plain": [
       "(14711, 52)"
      ]
     },
     "execution_count": 302,
     "metadata": {},
     "output_type": "execute_result"
    }
   ],
   "source": [
    "GlasgowCityRent_R4.shape"
   ]
  },
  {
   "cell_type": "markdown",
   "metadata": {},
   "source": [
    "### Zoopla data manipulation"
   ]
  },
  {
   "cell_type": "markdown",
   "metadata": {},
   "source": [
    "### Calculate yearly rent by price * 52 weeks"
   ]
  },
  {
   "cell_type": "code",
   "execution_count": 190,
   "metadata": {},
   "outputs": [
    {
     "name": "stderr",
     "output_type": "stream",
     "text": [
      "C:\\ProgramData\\Anaconda3\\lib\\site-packages\\ipykernel_launcher.py:1: SettingWithCopyWarning: \n",
      "A value is trying to be set on a copy of a slice from a DataFrame.\n",
      "Try using .loc[row_indexer,col_indexer] = value instead\n",
      "\n",
      "See the caveats in the documentation: http://pandas.pydata.org/pandas-docs/stable/indexing.html#indexing-view-versus-copy\n",
      "  \"\"\"Entry point for launching an IPython kernel.\n"
     ]
    }
   ],
   "source": [
    "GlasgowCityRent_R4['YearlyRent'] = GlasgowCityRent_R4['price']*52"
   ]
  },
  {
   "cell_type": "markdown",
   "metadata": {},
   "source": [
    "### Generate full postcode column"
   ]
  },
  {
   "cell_type": "code",
   "execution_count": 242,
   "metadata": {},
   "outputs": [
    {
     "name": "stderr",
     "output_type": "stream",
     "text": [
      "C:\\ProgramData\\Anaconda3\\lib\\site-packages\\ipykernel_launcher.py:1: SettingWithCopyWarning: \n",
      "A value is trying to be set on a copy of a slice from a DataFrame.\n",
      "Try using .loc[row_indexer,col_indexer] = value instead\n",
      "\n",
      "See the caveats in the documentation: http://pandas.pydata.org/pandas-docs/stable/indexing.html#indexing-view-versus-copy\n",
      "  \"\"\"Entry point for launching an IPython kernel.\n"
     ]
    }
   ],
   "source": [
    "GlasgowCityRent_R4['FullPostcode'] = GlasgowCityRent_R4['outcode'] + ' ' + GlasgowCityRent_R4['incode']"
   ]
  },
  {
   "cell_type": "markdown",
   "metadata": {},
   "source": [
    "### Geerante postcode sector column to match with EPC data"
   ]
  },
  {
   "cell_type": "code",
   "execution_count": 243,
   "metadata": {},
   "outputs": [
    {
     "name": "stderr",
     "output_type": "stream",
     "text": [
      "C:\\ProgramData\\Anaconda3\\lib\\site-packages\\ipykernel_launcher.py:1: SettingWithCopyWarning: \n",
      "A value is trying to be set on a copy of a slice from a DataFrame.\n",
      "Try using .loc[row_indexer,col_indexer] = value instead\n",
      "\n",
      "See the caveats in the documentation: http://pandas.pydata.org/pandas-docs/stable/indexing.html#indexing-view-versus-copy\n",
      "  \"\"\"Entry point for launching an IPython kernel.\n"
     ]
    }
   ],
   "source": [
    "GlasgowCityRent_R4['Postcode Sector'] = GlasgowCityRent_R4['FullPostcode'].astype(str).str[:-2]"
   ]
  },
  {
   "cell_type": "markdown",
   "metadata": {},
   "source": [
    "### A statistics of zoopla listings in each of the postcode sector, range from 7 listings to 639 listings. "
   ]
  },
  {
   "cell_type": "code",
   "execution_count": 247,
   "metadata": {},
   "outputs": [
    {
     "data": {
      "text/plain": [
       "G15 7      7\n",
       "G40 3      8\n",
       "G2 2       8\n",
       "G34 9      9\n",
       "G2 1      10\n",
       "G22 7     12\n",
       "G15 8     12\n",
       "G2 6      13\n",
       "G33 4     16\n",
       "G15 6     22\n",
       "G2 7      23\n",
       "G21 2     24\n",
       "G34 0     27\n",
       "G1 2      30\n",
       "G52 4     32\n",
       "G33 3     34\n",
       "G22 5     34\n",
       "G1 3      35\n",
       "G33 5     42\n",
       "G45 0     44\n",
       "G40 4     45\n",
       "G42 0     46\n",
       "G46 6     48\n",
       "G13 4     49\n",
       "G45 9     50\n",
       "G2 3      51\n",
       "G51 3     52\n",
       "G32 6     53\n",
       "G5 9      54\n",
       "G21 3     54\n",
       "        ... \n",
       "G31 3    176\n",
       "G5 8     178\n",
       "G4 0     180\n",
       "G52 2    184\n",
       "G53 7    195\n",
       "G20 8    200\n",
       "G40 1    216\n",
       "G1 5     227\n",
       "G44 5    247\n",
       "G41 2    256\n",
       "G20 6    278\n",
       "G3 7     279\n",
       "G14 0    284\n",
       "G1 1     287\n",
       "G31 2    294\n",
       "G13 1    306\n",
       "G12 0    312\n",
       "G44 4    320\n",
       "G11 6    327\n",
       "G4 9     353\n",
       "G42 9    353\n",
       "G11 5    360\n",
       "G12 8    360\n",
       "G3 6     368\n",
       "G51 1    395\n",
       "G3 8     416\n",
       "G11 7    458\n",
       "G42 8    495\n",
       "G12 9    564\n",
       "G41 3    639\n",
       "Name: Postcode Sector, Length: 100, dtype: int64"
      ]
     },
     "execution_count": 247,
     "metadata": {},
     "output_type": "execute_result"
    }
   ],
   "source": [
    "GlasgowCityRent_R4['Postcode Sector'].value_counts().sort_values()"
   ]
  },
  {
   "cell_type": "markdown",
   "metadata": {},
   "source": [
    "### An overview of property type in the dataset"
   ]
  },
  {
   "cell_type": "code",
   "execution_count": 248,
   "metadata": {},
   "outputs": [
    {
     "data": {
      "text/plain": [
       "Bungalow                     29\n",
       "Chalet                        1\n",
       "Cottage                     124\n",
       "Detached bungalow            12\n",
       "Detached house              188\n",
       "End terrace house            85\n",
       "Finca                         1\n",
       "Flat                      13060\n",
       "Maisonette                   46\n",
       "Mews house                   23\n",
       "Semi-detached bungalow       16\n",
       "Semi-detached house         392\n",
       "Studio                       56\n",
       "Terraced house              404\n",
       "Town house                   33\n",
       "Villa                        22\n",
       "Name: property_type, dtype: int64"
      ]
     },
     "execution_count": 248,
     "metadata": {},
     "output_type": "execute_result"
    }
   ],
   "source": [
    "GlasgowCityRent_R4['property_type'].value_counts().sort_index()"
   ]
  },
  {
   "cell_type": "markdown",
   "metadata": {},
   "source": [
    "### Calculate the mean value for yearly rental cost in each of the postcode sector"
   ]
  },
  {
   "cell_type": "code",
   "execution_count": 193,
   "metadata": {},
   "outputs": [],
   "source": [
    "GlasgowCityRent_R5 = GlasgowCityRent_R4.groupby(['Postcode Sector']).mean()"
   ]
  },
  {
   "cell_type": "code",
   "execution_count": 249,
   "metadata": {},
   "outputs": [
    {
     "data": {
      "text/plain": [
       "Postcode Sector\n",
       "G34 0     4982.370370\n",
       "G40 3     5083.000000\n",
       "G31 5     5085.459459\n",
       "G32 7     5337.382716\n",
       "G34 9     5379.111111\n",
       "G33 4     5534.750000\n",
       "G42 7     5594.216216\n",
       "G42 8     5687.749495\n",
       "G51 2     5688.179104\n",
       "G31 3     5714.681818\n",
       "G31 4     5744.631579\n",
       "G40 4     5754.666667\n",
       "G45 9     5809.440000\n",
       "G53 6     5821.214286\n",
       "G14 0     5885.154930\n",
       "G21 4     5892.455696\n",
       "G21 2     5902.000000\n",
       "G21 1     5902.590909\n",
       "G32 8     5915.000000\n",
       "G21 3     5954.962963\n",
       "G44 4     5977.075000\n",
       "G32 0     6004.227273\n",
       "G40 1     6030.555556\n",
       "G51 3     6034.000000\n",
       "G5 9      6034.888889\n",
       "G44 5     6059.368421\n",
       "G42 0     6061.391304\n",
       "G40 2     6151.407407\n",
       "G23 5     6204.571429\n",
       "G15 7     6277.142857\n",
       "             ...     \n",
       "G5 8      8163.707865\n",
       "G1 2      8183.066667\n",
       "G13 1     8340.052288\n",
       "G4 0      8366.800000\n",
       "G33 1     8413.600000\n",
       "G44 3     8532.588235\n",
       "G1 5      8611.841410\n",
       "G41 5     8729.573034\n",
       "G20 6     8774.345324\n",
       "G3 8      8908.375000\n",
       "G11 6     8933.504587\n",
       "G1 1      9123.191638\n",
       "G2 8      9158.666667\n",
       "G11 5     9288.933333\n",
       "G4 9      9591.569405\n",
       "G2 6      9592.000000\n",
       "G12 0     9809.833333\n",
       "G1 4     10141.813953\n",
       "G3 7     10392.358423\n",
       "G2 7     10406.782609\n",
       "G46 6    10409.750000\n",
       "G2 1     10410.400000\n",
       "G3 6     10513.043478\n",
       "G2 4     10876.666667\n",
       "G1 3     10948.228571\n",
       "G12 9    11046.404255\n",
       "G12 8    11305.666667\n",
       "G2 3     11420.627451\n",
       "G41 4    11734.484211\n",
       "G2 2     12493.000000\n",
       "Name: YearlyRent, Length: 100, dtype: float64"
      ]
     },
     "execution_count": 249,
     "metadata": {},
     "output_type": "execute_result"
    }
   ],
   "source": [
    "GlasgowCityRent_R5['YearlyRent'].sort_values()"
   ]
  },
  {
   "cell_type": "markdown",
   "metadata": {},
   "source": [
    "## Part 2: EPC data cleaning and manipulation\n",
    "\n",
    "### Scottish government shares Scottish EPC records through Energy Saving Trust.\n",
    "\n",
    "### Note that not all EPCs are available on the register as central Lodgement was phased in. EPC data available is as follows:\n",
    "\n",
    "### All buildings which were newly constructed, with a building warrant application made after 9 January 2013\n",
    "### Dwellings sold or rented to a new tenant after 1 December 2008; and\n",
    "### Non-domestic buildings sold, rented to a new tenant and public buildings from January 2013. https://www.scottishepcregister.org.uk/\n",
    "\n",
    "### Individual EPC data can be found and downloaded through the website, but the Scottish government only makes the EPC data available at Postcode Sectors level and can be downloaded from here: https://statistics.gov.scot/data/domestic-energy-performance-certificates\n",
    "\n",
    "### EPC data: 2.5GB, 30 csv. \n",
    "\n",
    "### EPC data time range: Oct 2012 - Mar 2020. \n",
    "\n",
    "### Coverage: Scotland"
   ]
  },
  {
   "cell_type": "markdown",
   "metadata": {},
   "source": [
    "### Read EPC data into pandas data frame"
   ]
  },
  {
   "cell_type": "code",
   "execution_count": 67,
   "metadata": {},
   "outputs": [],
   "source": [
    "path = r'D:\\SEPCR - EPC Extract May 2020 - Published - D EPC data extract 06 2020' \n",
    "all_files = glob.glob(path + \"/*.csv\")\n",
    "\n",
    "epc = []\n",
    "\n",
    "for filename in all_files:\n",
    "    df = pd.read_csv(filename, index_col=None, header=0)\n",
    "    epc.append(df)\n",
    "\n",
    "epcframe = pd.concat(epc, axis=0, ignore_index=True)"
   ]
  },
  {
   "cell_type": "code",
   "execution_count": 68,
   "metadata": {},
   "outputs": [
    {
     "data": {
      "text/plain": [
       "(1271423, 49)"
      ]
     },
     "execution_count": 68,
     "metadata": {},
     "output_type": "execute_result"
    }
   ],
   "source": [
    "epcframe.shape"
   ]
  },
  {
   "cell_type": "markdown",
   "metadata": {},
   "source": [
    "### I used date of assessment as the EPC obtained date. The code actually found out year errors in the EPC data, it would be good to report to the Scottish government for correction."
   ]
  },
  {
   "cell_type": "code",
   "execution_count": 69,
   "metadata": {},
   "outputs": [],
   "source": [
    "# https://stackoverflow.com/questions/32888124/pandas-out-of-bounds-nanosecond-timestamp-after-offset-rollforward-plus-adding-a\n",
    "epcframe[\"Date of Assessment\"] = pd.to_datetime(epcframe[\"Date of Assessment\"], errors = 'coerce')"
   ]
  },
  {
   "cell_type": "code",
   "execution_count": 70,
   "metadata": {},
   "outputs": [
    {
     "data": {
      "text/plain": [
       "1970.0         1\n",
       "2009.0        42\n",
       "2010.0        45\n",
       "2011.0       666\n",
       "2012.0     14980\n",
       "2013.0    125247\n",
       "2014.0    194799\n",
       "2015.0    174584\n",
       "2016.0    170576\n",
       "2017.0    167471\n",
       "2018.0    177018\n",
       "2019.0    210733\n",
       "2020.0     35170\n",
       "2103.0         1\n",
       "2108.0         1\n",
       "Name: Date of Assessment, dtype: int64"
      ]
     },
     "execution_count": 70,
     "metadata": {},
     "output_type": "execute_result"
    }
   ],
   "source": [
    "epcframe['Date of Assessment'].dt.year.value_counts().sort_index()"
   ]
  },
  {
   "cell_type": "markdown",
   "metadata": {},
   "source": [
    "### Same for Zoopla data, we further filter the EPC data range to 2013-2018."
   ]
  },
  {
   "cell_type": "code",
   "execution_count": 71,
   "metadata": {},
   "outputs": [],
   "source": [
    "Year = [2013,2014,2015,2016,2017,2018]\n",
    "EPC = epcframe[epcframe['Date of Assessment'].dt.year.isin(Year)]"
   ]
  },
  {
   "cell_type": "code",
   "execution_count": 72,
   "metadata": {},
   "outputs": [
    {
     "data": {
      "text/plain": [
       "(1009695, 49)"
      ]
     },
     "execution_count": 72,
     "metadata": {},
     "output_type": "execute_result"
    }
   ],
   "source": [
    "EPC.shape"
   ]
  },
  {
   "cell_type": "markdown",
   "metadata": {},
   "source": [
    "### Create postcode district column"
   ]
  },
  {
   "cell_type": "code",
   "execution_count": 253,
   "metadata": {},
   "outputs": [
    {
     "name": "stderr",
     "output_type": "stream",
     "text": [
      "C:\\ProgramData\\Anaconda3\\lib\\site-packages\\ipykernel_launcher.py:1: SettingWithCopyWarning: \n",
      "A value is trying to be set on a copy of a slice from a DataFrame.\n",
      "Try using .loc[row_indexer,col_indexer] = value instead\n",
      "\n",
      "See the caveats in the documentation: http://pandas.pydata.org/pandas-docs/stable/indexing.html#indexing-view-versus-copy\n",
      "  \"\"\"Entry point for launching an IPython kernel.\n"
     ]
    }
   ],
   "source": [
    "EPC['Postcode'] = EPC['Postcode Sector'].astype(str).str[:-2]"
   ]
  },
  {
   "cell_type": "markdown",
   "metadata": {},
   "source": [
    "#### Extract Glasgow data based on postcode district"
   ]
  },
  {
   "cell_type": "code",
   "execution_count": 255,
   "metadata": {},
   "outputs": [],
   "source": [
    "GlasgowCityPostCode = ['G1', 'G2','G3', 'G4','G5', 'G11','G12', 'G13','G14', 'G15','G20', 'G21','G22', 'G23','G31', 'G32', 'G33', 'G34','G40', 'G41','G42', 'G43','G44', 'G45','G46', 'G51','G52', 'G53']\n",
    "EPC_R1 = EPC[EPC.Postcode.isin(GlasgowCityPostCode)]"
   ]
  },
  {
   "cell_type": "code",
   "execution_count": 256,
   "metadata": {},
   "outputs": [
    {
     "data": {
      "text/plain": [
       "(128873, 50)"
      ]
     },
     "execution_count": 256,
     "metadata": {},
     "output_type": "execute_result"
    }
   ],
   "source": [
    "EPC_R1.shape"
   ]
  },
  {
   "cell_type": "markdown",
   "metadata": {},
   "source": [
    "### I calculate the energy cost per year per square meter for future use."
   ]
  },
  {
   "cell_type": "code",
   "execution_count": 257,
   "metadata": {},
   "outputs": [
    {
     "name": "stderr",
     "output_type": "stream",
     "text": [
      "C:\\ProgramData\\Anaconda3\\lib\\site-packages\\ipykernel_launcher.py:1: SettingWithCopyWarning: \n",
      "A value is trying to be set on a copy of a slice from a DataFrame.\n",
      "Try using .loc[row_indexer,col_indexer] = value instead\n",
      "\n",
      "See the caveats in the documentation: http://pandas.pydata.org/pandas-docs/stable/indexing.html#indexing-view-versus-copy\n",
      "  \"\"\"Entry point for launching an IPython kernel.\n"
     ]
    }
   ],
   "source": [
    "EPC_R1['Unit Energy cost per year'] = EPC_R1['Total current energy costs over 3 years (£)']/(EPC_R1['Total floor area (m²)']*3)"
   ]
  },
  {
   "cell_type": "markdown",
   "metadata": {},
   "source": [
    "### Here are the numbers of EPC records in each of the postcode sector, range from 1 to 2660. "
   ]
  },
  {
   "cell_type": "code",
   "execution_count": 259,
   "metadata": {},
   "outputs": [
    {
     "data": {
      "text/plain": [
       "G20 5       1\n",
       "G21 6       1\n",
       "G32 5       1\n",
       "G22 8       6\n",
       "G2 6       21\n",
       "G2 5       23\n",
       "G2 1       48\n",
       "G2 2       88\n",
       "G1 3      103\n",
       "G2 7      107\n",
       "G2 4      138\n",
       "G1 2      157\n",
       "G2 8      212\n",
       "G1 4      253\n",
       "G2 3      298\n",
       "G5 8      442\n",
       "G40 4     504\n",
       "G5 9      560\n",
       "G40 3     591\n",
       "G41 1     627\n",
       "G52 4     696\n",
       "G40 2     734\n",
       "G41 4     736\n",
       "G31 1     750\n",
       "G1 5      786\n",
       "G34 0     794\n",
       "G41 5     837\n",
       "G1 1      875\n",
       "G15 8     884\n",
       "G22 5     919\n",
       "         ... \n",
       "G22 7    1602\n",
       "G41 2    1603\n",
       "G45 9    1610\n",
       "G43 2    1615\n",
       "G11 5    1674\n",
       "G12 0    1723\n",
       "G31 4    1725\n",
       "G13 1    1727\n",
       "G46 8    1754\n",
       "G32 7    1762\n",
       "G14 9    1793\n",
       "G52 2    1843\n",
       "G31 2    1886\n",
       "G43 1    1888\n",
       "G32 6    1890\n",
       "G44 4    1946\n",
       "G13 3    1988\n",
       "G21 4    1995\n",
       "G22 6    2004\n",
       "G12 9    2125\n",
       "G14 0    2191\n",
       "G5 0     2201\n",
       "G21 3    2227\n",
       "G3 8     2290\n",
       "G42 9    2296\n",
       "G31 3    2314\n",
       "G11 7    2408\n",
       "G42 8    2451\n",
       "G41 3    2620\n",
       "G53 7    2660\n",
       "Name: Postcode Sector, Length: 105, dtype: int64"
      ]
     },
     "execution_count": 259,
     "metadata": {},
     "output_type": "execute_result"
    }
   ],
   "source": [
    "EPC_R1['Postcode Sector'].value_counts().sort_values()"
   ]
  },
  {
   "cell_type": "markdown",
   "metadata": {},
   "source": [
    "### Calculate the mean of unit energy cost in each postcode sector."
   ]
  },
  {
   "cell_type": "code",
   "execution_count": 260,
   "metadata": {},
   "outputs": [],
   "source": [
    "EPC_R2 = EPC_R1.groupby(['Postcode Sector']).mean()"
   ]
  },
  {
   "cell_type": "code",
   "execution_count": 262,
   "metadata": {},
   "outputs": [
    {
     "data": {
      "text/plain": [
       "Postcode Sector\n",
       "G2 6      6.927343\n",
       "G5 0      7.047091\n",
       "G22 8     7.448117\n",
       "G5 9      8.227051\n",
       "G42 0     8.407751\n",
       "G53 7     8.438179\n",
       "G45 0     8.592793\n",
       "G41 1     8.670550\n",
       "G15 8     8.766024\n",
       "G45 9     8.784711\n",
       "G33 4     8.786965\n",
       "G1 3      8.839071\n",
       "G1 4      8.839481\n",
       "G3 8      8.858424\n",
       "G11 6     8.922749\n",
       "G32 6     8.998660\n",
       "G20 9     9.060933\n",
       "G21 6     9.111111\n",
       "G31 5     9.129714\n",
       "G31 4     9.140985\n",
       "G34 9     9.218425\n",
       "G22 5     9.283547\n",
       "G5 8      9.326112\n",
       "G21 3     9.509951\n",
       "G33 1     9.525798\n",
       "G15 7     9.574503\n",
       "G33 3     9.576014\n",
       "G14 0     9.592844\n",
       "G40 4     9.658710\n",
       "G33 6     9.689953\n",
       "           ...    \n",
       "G1 5     11.257643\n",
       "G32 9    11.286636\n",
       "G52 1    11.311989\n",
       "G46 7    11.314480\n",
       "G12 8    11.318985\n",
       "G44 5    11.320098\n",
       "G32 0    11.366514\n",
       "G34 0    11.468580\n",
       "G12 9    11.469589\n",
       "G42 7    11.504992\n",
       "G52 3    11.514105\n",
       "G4 9     11.526398\n",
       "G11 7    11.558193\n",
       "G44 3    11.570301\n",
       "G42 9    11.599356\n",
       "G13 3    11.621626\n",
       "G20 6    11.622309\n",
       "G4 0     11.772666\n",
       "G42 8    11.817110\n",
       "G52 4    11.882820\n",
       "G51 1    11.973699\n",
       "G41 3    11.976555\n",
       "G33 2    12.152696\n",
       "G44 4    12.172925\n",
       "G41 5    12.215577\n",
       "G2 1     12.276849\n",
       "G2 4     12.329974\n",
       "G1 2     12.717329\n",
       "G2 2     12.943428\n",
       "G20 5    23.384615\n",
       "Name: Unit Energy cost per year, Length: 105, dtype: float64"
      ]
     },
     "execution_count": 262,
     "metadata": {},
     "output_type": "execute_result"
    }
   ],
   "source": [
    "EPC_R2['Unit Energy cost per year'].sort_values()"
   ]
  },
  {
   "cell_type": "markdown",
   "metadata": {},
   "source": [
    "### Now I finished the data cleaning and manipulation of the Zoopla and EPC data. The next step is to join these two datasets together based on Postcode sector"
   ]
  },
  {
   "cell_type": "code",
   "execution_count": 263,
   "metadata": {},
   "outputs": [],
   "source": [
    "Zoopla_EPC = GlasgowCityRent_R5.merge(EPC_R2, left_on='Postcode Sector', right_on='Postcode Sector')"
   ]
  },
  {
   "cell_type": "markdown",
   "metadata": {},
   "source": [
    "### After joining these two dataset, I calculated the energy cost per year based on the bedroom numbers from Zoopla data and unit energy cost from EPC data in each postcode sector."
   ]
  },
  {
   "cell_type": "code",
   "execution_count": 265,
   "metadata": {},
   "outputs": [
    {
     "data": {
      "text/plain": [
       "count    100.000000\n",
       "mean       2.031444\n",
       "std        0.329729\n",
       "min        1.333333\n",
       "25%        1.801685\n",
       "50%        2.042278\n",
       "75%        2.209967\n",
       "max        2.978947\n",
       "Name: num_bedrooms, dtype: float64"
      ]
     },
     "execution_count": 265,
     "metadata": {},
     "output_type": "execute_result"
    }
   ],
   "source": [
    "# We don't separate different years in this analysis. \n",
    "Zoopla_EPC['num_bedrooms'].describe()"
   ]
  },
  {
   "cell_type": "markdown",
   "metadata": {},
   "source": [
    "### I used 35 m2 for one bedroom, 70 m2 for two bedrooms, and 105 m2 for three bedrooms in the analysis based on the reference below. This can be further improved based on other resources.\n",
    "### Space standard for homes: Under the new standard, a new one bed, one person flat would have to be a minimum of 37m² while a three bed, five person home would be a minimum of 93m².\n",
    "\n",
    "### Source: https://hqnetwork.co.uk/download.cfm?doc=docm93jijm4n2909.pdf&ver=5651. "
   ]
  },
  {
   "cell_type": "code",
   "execution_count": 266,
   "metadata": {},
   "outputs": [],
   "source": [
    "Zoopla_EPC['EnergyCostPerYear'] = Zoopla_EPC['num_bedrooms']*35*Zoopla_EPC['Unit Energy cost per year']"
   ]
  },
  {
   "cell_type": "markdown",
   "metadata": {},
   "source": [
    "### Total energy and rental cost in each postcode sector"
   ]
  },
  {
   "cell_type": "code",
   "execution_count": 267,
   "metadata": {},
   "outputs": [],
   "source": [
    "Zoopla_EPC['TotalEnerngyRentalCost'] = Zoopla_EPC['EnergyCostPerYear'] + Zoopla_EPC['YearlyRent']"
   ]
  },
  {
   "cell_type": "code",
   "execution_count": 269,
   "metadata": {},
   "outputs": [
    {
     "data": {
      "text/plain": [
       "Postcode Sector\n",
       "G31 5     5612.268649\n",
       "G40 3     5669.704887\n",
       "G34 0     5889.237686\n",
       "G32 7     5940.327684\n",
       "G34 9     6096.099721\n",
       "G33 4     6226.723501\n",
       "G42 7     6239.039924\n",
       "G31 3     6296.554273\n",
       "G51 2     6311.929430\n",
       "G31 4     6317.145923\n",
       "G42 8     6366.218740\n",
       "G40 4     6385.702389\n",
       "G14 0     6440.796787\n",
       "G5 9      6461.476712\n",
       "G45 9     6510.459970\n",
       "G53 6     6555.759880\n",
       "G21 2     6601.799343\n",
       "G21 1     6616.391252\n",
       "G40 1     6630.507383\n",
       "G21 4     6632.329142\n",
       "G32 8     6634.995727\n",
       "G21 3     6700.789641\n",
       "G32 0     6732.071674\n",
       "G42 0     6739.494705\n",
       "G44 4     6750.626373\n",
       "G51 3     6800.458723\n",
       "G40 2     6832.609287\n",
       "G23 5     6911.798780\n",
       "G51 1     6974.252287\n",
       "G44 5     7007.369336\n",
       "             ...     \n",
       "G53 7     8787.566453\n",
       "G4 0      9081.008407\n",
       "G13 1     9147.224996\n",
       "G15 6     9192.923032\n",
       "G1 5      9306.145392\n",
       "G33 1     9383.033114\n",
       "G44 3     9425.883566\n",
       "G3 8      9474.803084\n",
       "G11 6     9475.009023\n",
       "G20 6     9508.891998\n",
       "G1 1      9713.215525\n",
       "G2 8      9727.267531\n",
       "G41 5     9738.387568\n",
       "G2 6     10002.311850\n",
       "G11 5    10005.539410\n",
       "G4 9     10434.988279\n",
       "G12 0    10633.888250\n",
       "G1 4     10774.967470\n",
       "G2 7     11092.646409\n",
       "G3 7     11151.879061\n",
       "G2 1     11226.810432\n",
       "G3 6     11292.223632\n",
       "G1 3     11478.572841\n",
       "G46 6    11520.427597\n",
       "G2 4     11805.151058\n",
       "G12 9    11828.634285\n",
       "G12 8    12170.625772\n",
       "G2 3     12196.227686\n",
       "G41 4    12775.379591\n",
       "G2 2     13285.784978\n",
       "Name: TotalEnerngyRentalCost, Length: 100, dtype: float64"
      ]
     },
     "execution_count": 269,
     "metadata": {},
     "output_type": "execute_result"
    }
   ],
   "source": [
    "Zoopla_EPC['TotalEnerngyRentalCost'].sort_values()"
   ]
  },
  {
   "cell_type": "markdown",
   "metadata": {},
   "source": [
    "### Now I have finished the data analysis for Zoopla and EPC data. To understand the spatial distribution of fuel poverty, I will need income information and postcode shapefiles. Geopandas has been used here to deal with spatial dataset. "
   ]
  },
  {
   "cell_type": "code",
   "execution_count": 204,
   "metadata": {},
   "outputs": [],
   "source": [
    "import geopandas as gpd"
   ]
  },
  {
   "cell_type": "markdown",
   "metadata": {},
   "source": [
    "#### Read postcode sector shapefile from National Records of Scotland: https://www.nrscotland.gov.uk/statistics-and-data/geography/our-products/scottish-postcode-directory/2020-2"
   ]
  },
  {
   "cell_type": "code",
   "execution_count": 270,
   "metadata": {},
   "outputs": [],
   "source": [
    "PostcodeShapefile = gpd.read_file('D:\\Sector_20_2\\Sector_20_2.shp')"
   ]
  },
  {
   "cell_type": "markdown",
   "metadata": {},
   "source": [
    "### Filter the data to Glasgow City area"
   ]
  },
  {
   "cell_type": "code",
   "execution_count": 271,
   "metadata": {},
   "outputs": [],
   "source": [
    "PostcodeShapefile['District'] = PostcodeShapefile['Sector'].astype(str).str[:-2]"
   ]
  },
  {
   "cell_type": "code",
   "execution_count": 272,
   "metadata": {},
   "outputs": [
    {
     "data": {
      "text/html": [
       "<div>\n",
       "<style scoped>\n",
       "    .dataframe tbody tr th:only-of-type {\n",
       "        vertical-align: middle;\n",
       "    }\n",
       "\n",
       "    .dataframe tbody tr th {\n",
       "        vertical-align: top;\n",
       "    }\n",
       "\n",
       "    .dataframe thead th {\n",
       "        text-align: right;\n",
       "    }\n",
       "</style>\n",
       "<table border=\"1\" class=\"dataframe\">\n",
       "  <thead>\n",
       "    <tr style=\"text-align: right;\">\n",
       "      <th></th>\n",
       "      <th>OBJECTID</th>\n",
       "      <th>Sector</th>\n",
       "      <th>Shape_Leng</th>\n",
       "      <th>Shape_Area</th>\n",
       "      <th>geometry</th>\n",
       "      <th>District</th>\n",
       "    </tr>\n",
       "  </thead>\n",
       "  <tbody>\n",
       "    <tr>\n",
       "      <th>0</th>\n",
       "      <td>1</td>\n",
       "      <td>AB10 1</td>\n",
       "      <td>7162.481830</td>\n",
       "      <td>7.162994e+05</td>\n",
       "      <td>POLYGON ((394229.854 806675.589, 394239.046 80...</td>\n",
       "      <td>AB10</td>\n",
       "    </tr>\n",
       "    <tr>\n",
       "      <th>1</th>\n",
       "      <td>2</td>\n",
       "      <td>AB10 6</td>\n",
       "      <td>12381.783121</td>\n",
       "      <td>1.504445e+06</td>\n",
       "      <td>POLYGON ((393348.999 805786.000, 393364.000 80...</td>\n",
       "      <td>AB10</td>\n",
       "    </tr>\n",
       "    <tr>\n",
       "      <th>2</th>\n",
       "      <td>3</td>\n",
       "      <td>AB10 7</td>\n",
       "      <td>11425.440515</td>\n",
       "      <td>2.372945e+06</td>\n",
       "      <td>POLYGON ((393209.011 805132.125, 393206.363 80...</td>\n",
       "      <td>AB10</td>\n",
       "    </tr>\n",
       "    <tr>\n",
       "      <th>3</th>\n",
       "      <td>4</td>\n",
       "      <td>AB11 5</td>\n",
       "      <td>13779.103666</td>\n",
       "      <td>1.219521e+06</td>\n",
       "      <td>POLYGON ((395211.917 806599.168, 395275.000 80...</td>\n",
       "      <td>AB11</td>\n",
       "    </tr>\n",
       "    <tr>\n",
       "      <th>4</th>\n",
       "      <td>5</td>\n",
       "      <td>AB11 6</td>\n",
       "      <td>7082.176177</td>\n",
       "      <td>7.724311e+05</td>\n",
       "      <td>MULTIPOLYGON (((393211.114 805537.072, 393207....</td>\n",
       "      <td>AB11</td>\n",
       "    </tr>\n",
       "  </tbody>\n",
       "</table>\n",
       "</div>"
      ],
      "text/plain": [
       "   OBJECTID  Sector    Shape_Leng    Shape_Area  \\\n",
       "0         1  AB10 1   7162.481830  7.162994e+05   \n",
       "1         2  AB10 6  12381.783121  1.504445e+06   \n",
       "2         3  AB10 7  11425.440515  2.372945e+06   \n",
       "3         4  AB11 5  13779.103666  1.219521e+06   \n",
       "4         5  AB11 6   7082.176177  7.724311e+05   \n",
       "\n",
       "                                            geometry District  \n",
       "0  POLYGON ((394229.854 806675.589, 394239.046 80...     AB10  \n",
       "1  POLYGON ((393348.999 805786.000, 393364.000 80...     AB10  \n",
       "2  POLYGON ((393209.011 805132.125, 393206.363 80...     AB10  \n",
       "3  POLYGON ((395211.917 806599.168, 395275.000 80...     AB11  \n",
       "4  MULTIPOLYGON (((393211.114 805537.072, 393207....     AB11  "
      ]
     },
     "execution_count": 272,
     "metadata": {},
     "output_type": "execute_result"
    }
   ],
   "source": [
    "PostcodeShapefile.head()"
   ]
  },
  {
   "cell_type": "code",
   "execution_count": 208,
   "metadata": {},
   "outputs": [],
   "source": [
    "GlasgowCityPostCode = ['G1', 'G2','G3', 'G4','G5', 'G11','G12', 'G13','G14', 'G15','G20', 'G21','G22', 'G23','G31', 'G32', 'G33', 'G34','G40', 'G41','G42', 'G43','G44', 'G45','G46', 'G51','G52', 'G53']\n",
    "PostcodeGlasgow = PostcodeShapefile[PostcodeShapefile.District.isin(GlasgowCityPostCode)]"
   ]
  },
  {
   "cell_type": "markdown",
   "metadata": {},
   "source": [
    "### Merge Zoopla and EPC data with the shapefile"
   ]
  },
  {
   "cell_type": "code",
   "execution_count": 209,
   "metadata": {},
   "outputs": [],
   "source": [
    "PostcodeGlasgow_J1 = PostcodeGlasgow.merge(Zoopla_EPC, left_on = 'Sector', right_on = 'Postcode Sector')"
   ]
  },
  {
   "cell_type": "code",
   "execution_count": 210,
   "metadata": {},
   "outputs": [
    {
     "data": {
      "text/html": [
       "<div>\n",
       "<style scoped>\n",
       "    .dataframe tbody tr th:only-of-type {\n",
       "        vertical-align: middle;\n",
       "    }\n",
       "\n",
       "    .dataframe tbody tr th {\n",
       "        vertical-align: top;\n",
       "    }\n",
       "\n",
       "    .dataframe thead th {\n",
       "        text-align: right;\n",
       "    }\n",
       "</style>\n",
       "<table border=\"1\" class=\"dataframe\">\n",
       "  <thead>\n",
       "    <tr style=\"text-align: right;\">\n",
       "      <th></th>\n",
       "      <th>OBJECTID</th>\n",
       "      <th>Sector</th>\n",
       "      <th>Shape_Leng</th>\n",
       "      <th>Shape_Area</th>\n",
       "      <th>geometry</th>\n",
       "      <th>District</th>\n",
       "      <th>listing_id</th>\n",
       "      <th>property_id</th>\n",
       "      <th>extract_date</th>\n",
       "      <th>result_count</th>\n",
       "      <th>...</th>\n",
       "      <th>Potential future savings over 3 years (£).1</th>\n",
       "      <th>Space Heating</th>\n",
       "      <th>Water Heating</th>\n",
       "      <th>Impact Of Loft Insulation</th>\n",
       "      <th>Impact Of Cavity Wall Insulation</th>\n",
       "      <th>Impact Of Solid Wall Insulation</th>\n",
       "      <th>Addendum Text</th>\n",
       "      <th>Unit Energy cost per year</th>\n",
       "      <th>EnergyCostPerYear</th>\n",
       "      <th>TotalEnerngyRentalCost</th>\n",
       "    </tr>\n",
       "  </thead>\n",
       "  <tbody>\n",
       "    <tr>\n",
       "      <th>0</th>\n",
       "      <td>346</td>\n",
       "      <td>G1 1</td>\n",
       "      <td>4541.467998</td>\n",
       "      <td>334875.989304</td>\n",
       "      <td>POLYGON ((259437.000 665598.000, 259482.000 66...</td>\n",
       "      <td>G1</td>\n",
       "      <td>3.481988e+07</td>\n",
       "      <td>1.971486e+07</td>\n",
       "      <td>2.017070e+13</td>\n",
       "      <td>8.912892</td>\n",
       "      <td>...</td>\n",
       "      <td>651.774857</td>\n",
       "      <td>4148.216000</td>\n",
       "      <td>2027.432000</td>\n",
       "      <td>-159.780571</td>\n",
       "      <td>-14.701714</td>\n",
       "      <td>-456.217143</td>\n",
       "      <td>NaN</td>\n",
       "      <td>101.029612</td>\n",
       "      <td>5310.214983</td>\n",
       "      <td>14433.406621</td>\n",
       "    </tr>\n",
       "    <tr>\n",
       "      <th>1</th>\n",
       "      <td>347</td>\n",
       "      <td>G1 2</td>\n",
       "      <td>4990.616669</td>\n",
       "      <td>184045.902873</td>\n",
       "      <td>MULTIPOLYGON (((258979.851 665753.005, 259004....</td>\n",
       "      <td>G1</td>\n",
       "      <td>3.856798e+07</td>\n",
       "      <td>1.769373e+07</td>\n",
       "      <td>2.017064e+13</td>\n",
       "      <td>3.233333</td>\n",
       "      <td>...</td>\n",
       "      <td>765.936306</td>\n",
       "      <td>4140.662420</td>\n",
       "      <td>1937.318471</td>\n",
       "      <td>-122.095541</td>\n",
       "      <td>-112.057325</td>\n",
       "      <td>-131.210191</td>\n",
       "      <td>NaN</td>\n",
       "      <td>114.455961</td>\n",
       "      <td>5341.278167</td>\n",
       "      <td>13524.344834</td>\n",
       "    </tr>\n",
       "    <tr>\n",
       "      <th>2</th>\n",
       "      <td>348</td>\n",
       "      <td>G1 3</td>\n",
       "      <td>1969.103068</td>\n",
       "      <td>103372.740251</td>\n",
       "      <td>POLYGON ((258831.731 665351.411, 258837.117 66...</td>\n",
       "      <td>G1</td>\n",
       "      <td>3.747108e+07</td>\n",
       "      <td>2.362394e+07</td>\n",
       "      <td>2.017068e+13</td>\n",
       "      <td>6.000000</td>\n",
       "      <td>...</td>\n",
       "      <td>545.854369</td>\n",
       "      <td>4371.524272</td>\n",
       "      <td>2046.174757</td>\n",
       "      <td>-152.485437</td>\n",
       "      <td>0.000000</td>\n",
       "      <td>-504.679612</td>\n",
       "      <td>NaN</td>\n",
       "      <td>79.551640</td>\n",
       "      <td>4773.098422</td>\n",
       "      <td>15721.326994</td>\n",
       "    </tr>\n",
       "    <tr>\n",
       "      <th>3</th>\n",
       "      <td>349</td>\n",
       "      <td>G1 4</td>\n",
       "      <td>3284.953503</td>\n",
       "      <td>195767.064752</td>\n",
       "      <td>MULTIPOLYGON (((258309.000 664914.950, 258294....</td>\n",
       "      <td>G1</td>\n",
       "      <td>3.666225e+07</td>\n",
       "      <td>2.243601e+07</td>\n",
       "      <td>2.017067e+13</td>\n",
       "      <td>8.325581</td>\n",
       "      <td>...</td>\n",
       "      <td>280.173913</td>\n",
       "      <td>3326.478261</td>\n",
       "      <td>2090.826087</td>\n",
       "      <td>-120.249012</td>\n",
       "      <td>-7.494071</td>\n",
       "      <td>-383.778656</td>\n",
       "      <td>NaN</td>\n",
       "      <td>79.555328</td>\n",
       "      <td>5698.381646</td>\n",
       "      <td>15840.195600</td>\n",
       "    </tr>\n",
       "    <tr>\n",
       "      <th>4</th>\n",
       "      <td>350</td>\n",
       "      <td>G1 5</td>\n",
       "      <td>4034.758081</td>\n",
       "      <td>437864.310824</td>\n",
       "      <td>POLYGON ((259449.111 665128.304, 259445.088 66...</td>\n",
       "      <td>G1</td>\n",
       "      <td>3.571428e+07</td>\n",
       "      <td>2.041333e+07</td>\n",
       "      <td>2.017069e+13</td>\n",
       "      <td>5.621145</td>\n",
       "      <td>...</td>\n",
       "      <td>446.709924</td>\n",
       "      <td>4346.835878</td>\n",
       "      <td>1910.590331</td>\n",
       "      <td>-352.998728</td>\n",
       "      <td>-159.400763</td>\n",
       "      <td>-830.279898</td>\n",
       "      <td>NaN</td>\n",
       "      <td>101.318788</td>\n",
       "      <td>6248.735839</td>\n",
       "      <td>14860.577249</td>\n",
       "    </tr>\n",
       "  </tbody>\n",
       "</table>\n",
       "<p>5 rows × 45 columns</p>\n",
       "</div>"
      ],
      "text/plain": [
       "   OBJECTID Sector   Shape_Leng     Shape_Area  \\\n",
       "0       346   G1 1  4541.467998  334875.989304   \n",
       "1       347   G1 2  4990.616669  184045.902873   \n",
       "2       348   G1 3  1969.103068  103372.740251   \n",
       "3       349   G1 4  3284.953503  195767.064752   \n",
       "4       350   G1 5  4034.758081  437864.310824   \n",
       "\n",
       "                                            geometry District    listing_id  \\\n",
       "0  POLYGON ((259437.000 665598.000, 259482.000 66...       G1  3.481988e+07   \n",
       "1  MULTIPOLYGON (((258979.851 665753.005, 259004....       G1  3.856798e+07   \n",
       "2  POLYGON ((258831.731 665351.411, 258837.117 66...       G1  3.747108e+07   \n",
       "3  MULTIPOLYGON (((258309.000 664914.950, 258294....       G1  3.666225e+07   \n",
       "4  POLYGON ((259449.111 665128.304, 259445.088 66...       G1  3.571428e+07   \n",
       "\n",
       "    property_id  extract_date  result_count  ...  \\\n",
       "0  1.971486e+07  2.017070e+13      8.912892  ...   \n",
       "1  1.769373e+07  2.017064e+13      3.233333  ...   \n",
       "2  2.362394e+07  2.017068e+13      6.000000  ...   \n",
       "3  2.243601e+07  2.017067e+13      8.325581  ...   \n",
       "4  2.041333e+07  2.017069e+13      5.621145  ...   \n",
       "\n",
       "   Potential future savings over 3 years (£).1  Space Heating  Water Heating  \\\n",
       "0                                   651.774857    4148.216000    2027.432000   \n",
       "1                                   765.936306    4140.662420    1937.318471   \n",
       "2                                   545.854369    4371.524272    2046.174757   \n",
       "3                                   280.173913    3326.478261    2090.826087   \n",
       "4                                   446.709924    4346.835878    1910.590331   \n",
       "\n",
       "   Impact Of Loft Insulation  Impact Of Cavity Wall Insulation  \\\n",
       "0                -159.780571                        -14.701714   \n",
       "1                -122.095541                       -112.057325   \n",
       "2                -152.485437                          0.000000   \n",
       "3                -120.249012                         -7.494071   \n",
       "4                -352.998728                       -159.400763   \n",
       "\n",
       "   Impact Of Solid Wall Insulation  Addendum Text  Unit Energy cost per year  \\\n",
       "0                      -456.217143            NaN                 101.029612   \n",
       "1                      -131.210191            NaN                 114.455961   \n",
       "2                      -504.679612            NaN                  79.551640   \n",
       "3                      -383.778656            NaN                  79.555328   \n",
       "4                      -830.279898            NaN                 101.318788   \n",
       "\n",
       "   EnergyCostPerYear  TotalEnerngyRentalCost  \n",
       "0        5310.214983            14433.406621  \n",
       "1        5341.278167            13524.344834  \n",
       "2        4773.098422            15721.326994  \n",
       "3        5698.381646            15840.195600  \n",
       "4        6248.735839            14860.577249  \n",
       "\n",
       "[5 rows x 45 columns]"
      ]
     },
     "execution_count": 210,
     "metadata": {},
     "output_type": "execute_result"
    }
   ],
   "source": [
    "PostcodeGlasgow_J1.head()"
   ]
  },
  {
   "cell_type": "markdown",
   "metadata": {},
   "source": [
    "### Read the weekly income data from Scottish government website: https://statistics.gov.scot/data/local-level-average-household-income-estimates-2014"
   ]
  },
  {
   "cell_type": "code",
   "execution_count": 273,
   "metadata": {},
   "outputs": [],
   "source": [
    "Income = pd.read_csv('D:\\Local Level Average Household Income Estimates 2014.csv')"
   ]
  },
  {
   "cell_type": "code",
   "execution_count": 279,
   "metadata": {},
   "outputs": [
    {
     "data": {
      "text/plain": [
       "Mean      6970\n",
       "Median    6970\n",
       "Name: Measurement, dtype: int64"
      ]
     },
     "execution_count": 279,
     "metadata": {},
     "output_type": "execute_result"
    }
   ],
   "source": [
    "Income['Measurement'].value_counts()"
   ]
  },
  {
   "cell_type": "markdown",
   "metadata": {},
   "source": [
    "### I removed median value in the income data and used mean income in this analysis."
   ]
  },
  {
   "cell_type": "code",
   "execution_count": 281,
   "metadata": {},
   "outputs": [],
   "source": [
    "Income_R1 = Income[Income.Measurement != 'Median']"
   ]
  },
  {
   "cell_type": "markdown",
   "metadata": {},
   "source": [
    "### Since the income data is at datazone level, I read another postcode (full postcode) shapefile from National Records of Scotland: https://www.nrscotland.gov.uk/statistics-and-data/geography/our-products/scottish-postcode-directory/2020-2"
   ]
  },
  {
   "cell_type": "code",
   "execution_count": 282,
   "metadata": {},
   "outputs": [],
   "source": [
    "FullPostcode = gpd.read_file('D:\\PC_Cut_20_2\\PC_Cut_20_2.shp')"
   ]
  },
  {
   "cell_type": "markdown",
   "metadata": {},
   "source": [
    "### Filter the data to Glasgow City"
   ]
  },
  {
   "cell_type": "code",
   "execution_count": 216,
   "metadata": {},
   "outputs": [],
   "source": [
    "GlasgowCityPostCode = ['G1', 'G2','G3', 'G4','G5', 'G11','G12', 'G13','G14', 'G15','G20', 'G21','G22', 'G23','G31', 'G32', 'G33', 'G34','G40', 'G41','G42', 'G43','G44', 'G45','G46', 'G51','G52', 'G53']\n",
    "FullPostcodeGlasgow = FullPostcode[FullPostcode.District.isin(GlasgowCityPostCode)]"
   ]
  },
  {
   "cell_type": "markdown",
   "metadata": {},
   "source": [
    "### This is a very useful spatial data to help convert between postcode, postcode sector, postcode district, and data zone, etc."
   ]
  },
  {
   "cell_type": "code",
   "execution_count": 217,
   "metadata": {},
   "outputs": [
    {
     "data": {
      "text/html": [
       "<div>\n",
       "<style scoped>\n",
       "    .dataframe tbody tr th:only-of-type {\n",
       "        vertical-align: middle;\n",
       "    }\n",
       "\n",
       "    .dataframe tbody tr th {\n",
       "        vertical-align: top;\n",
       "    }\n",
       "\n",
       "    .dataframe thead th {\n",
       "        text-align: right;\n",
       "    }\n",
       "</style>\n",
       "<table border=\"1\" class=\"dataframe\">\n",
       "  <thead>\n",
       "    <tr style=\"text-align: right;\">\n",
       "      <th></th>\n",
       "      <th>OBJECTID_1</th>\n",
       "      <th>Postcode</th>\n",
       "      <th>District</th>\n",
       "      <th>Sector</th>\n",
       "      <th>DoIntro</th>\n",
       "      <th>Council</th>\n",
       "      <th>OA11</th>\n",
       "      <th>DZ11</th>\n",
       "      <th>EW19</th>\n",
       "      <th>Shape_Leng</th>\n",
       "      <th>Shape_Area</th>\n",
       "      <th>geometry</th>\n",
       "    </tr>\n",
       "  </thead>\n",
       "  <tbody>\n",
       "    <tr>\n",
       "      <th>62556</th>\n",
       "      <td>62557</td>\n",
       "      <td>G1 1AB</td>\n",
       "      <td>G1</td>\n",
       "      <td>G1 1</td>\n",
       "      <td>2018-01-19</td>\n",
       "      <td>S12000049</td>\n",
       "      <td>S00116298</td>\n",
       "      <td>S01010260</td>\n",
       "      <td>S13002976</td>\n",
       "      <td>106.398986</td>\n",
       "      <td>707.853996</td>\n",
       "      <td>POLYGON ((259641.880 665354.026, 259636.843 66...</td>\n",
       "    </tr>\n",
       "    <tr>\n",
       "      <th>62557</th>\n",
       "      <td>62558</td>\n",
       "      <td>G1 1AD</td>\n",
       "      <td>G1</td>\n",
       "      <td>G1 1</td>\n",
       "      <td>2020-04-29</td>\n",
       "      <td>S12000049</td>\n",
       "      <td>S00112179</td>\n",
       "      <td>S01010265</td>\n",
       "      <td>S13002976</td>\n",
       "      <td>69.183403</td>\n",
       "      <td>293.396348</td>\n",
       "      <td>POLYGON ((259174.015 665173.045, 259168.985 66...</td>\n",
       "    </tr>\n",
       "    <tr>\n",
       "      <th>62558</th>\n",
       "      <td>62559</td>\n",
       "      <td>G1 1BL</td>\n",
       "      <td>G1</td>\n",
       "      <td>G1 1</td>\n",
       "      <td>1985-09-01</td>\n",
       "      <td>S12000049</td>\n",
       "      <td>S00112170</td>\n",
       "      <td>S01010263</td>\n",
       "      <td>S13002976</td>\n",
       "      <td>208.320854</td>\n",
       "      <td>2593.810945</td>\n",
       "      <td>POLYGON ((259732.886 665077.898, 259724.509 66...</td>\n",
       "    </tr>\n",
       "    <tr>\n",
       "      <th>62559</th>\n",
       "      <td>62560</td>\n",
       "      <td>G1 1BQ</td>\n",
       "      <td>G1</td>\n",
       "      <td>G1 1</td>\n",
       "      <td>2008-04-10</td>\n",
       "      <td>S12000049</td>\n",
       "      <td>S00112177</td>\n",
       "      <td>S01010265</td>\n",
       "      <td>S13002976</td>\n",
       "      <td>101.064285</td>\n",
       "      <td>484.789528</td>\n",
       "      <td>POLYGON ((259324.613 665177.007, 259345.016 66...</td>\n",
       "    </tr>\n",
       "    <tr>\n",
       "      <th>62560</th>\n",
       "      <td>62561</td>\n",
       "      <td>G1 1DA</td>\n",
       "      <td>G1</td>\n",
       "      <td>G1 1</td>\n",
       "      <td>1973-08-01</td>\n",
       "      <td>S12000049</td>\n",
       "      <td>S00112164</td>\n",
       "      <td>S01010265</td>\n",
       "      <td>S13002976</td>\n",
       "      <td>558.111657</td>\n",
       "      <td>5783.362461</td>\n",
       "      <td>POLYGON ((259230.553 665269.734, 259234.000 66...</td>\n",
       "    </tr>\n",
       "  </tbody>\n",
       "</table>\n",
       "</div>"
      ],
      "text/plain": [
       "       OBJECTID_1 Postcode District Sector     DoIntro    Council       OA11  \\\n",
       "62556       62557   G1 1AB       G1   G1 1  2018-01-19  S12000049  S00116298   \n",
       "62557       62558   G1 1AD       G1   G1 1  2020-04-29  S12000049  S00112179   \n",
       "62558       62559   G1 1BL       G1   G1 1  1985-09-01  S12000049  S00112170   \n",
       "62559       62560   G1 1BQ       G1   G1 1  2008-04-10  S12000049  S00112177   \n",
       "62560       62561   G1 1DA       G1   G1 1  1973-08-01  S12000049  S00112164   \n",
       "\n",
       "            DZ11       EW19  Shape_Leng   Shape_Area  \\\n",
       "62556  S01010260  S13002976  106.398986   707.853996   \n",
       "62557  S01010265  S13002976   69.183403   293.396348   \n",
       "62558  S01010263  S13002976  208.320854  2593.810945   \n",
       "62559  S01010265  S13002976  101.064285   484.789528   \n",
       "62560  S01010265  S13002976  558.111657  5783.362461   \n",
       "\n",
       "                                                geometry  \n",
       "62556  POLYGON ((259641.880 665354.026, 259636.843 66...  \n",
       "62557  POLYGON ((259174.015 665173.045, 259168.985 66...  \n",
       "62558  POLYGON ((259732.886 665077.898, 259724.509 66...  \n",
       "62559  POLYGON ((259324.613 665177.007, 259345.016 66...  \n",
       "62560  POLYGON ((259230.553 665269.734, 259234.000 66...  "
      ]
     },
     "execution_count": 217,
     "metadata": {},
     "output_type": "execute_result"
    }
   ],
   "source": [
    "FullPostcodeGlasgow.head()"
   ]
  },
  {
   "cell_type": "markdown",
   "metadata": {},
   "source": [
    "### Merge weekly income data with the shapefile based on the data zone."
   ]
  },
  {
   "cell_type": "code",
   "execution_count": 286,
   "metadata": {},
   "outputs": [],
   "source": [
    "FullPostcodeGlasgow_J1 = FullPostcodeGlasgow.merge(Income_R1, left_on='DZ11', right_on='FeatureCode')"
   ]
  },
  {
   "cell_type": "code",
   "execution_count": 287,
   "metadata": {},
   "outputs": [
    {
     "data": {
      "text/html": [
       "<div>\n",
       "<style scoped>\n",
       "    .dataframe tbody tr th:only-of-type {\n",
       "        vertical-align: middle;\n",
       "    }\n",
       "\n",
       "    .dataframe tbody tr th {\n",
       "        vertical-align: top;\n",
       "    }\n",
       "\n",
       "    .dataframe thead th {\n",
       "        text-align: right;\n",
       "    }\n",
       "</style>\n",
       "<table border=\"1\" class=\"dataframe\">\n",
       "  <thead>\n",
       "    <tr style=\"text-align: right;\">\n",
       "      <th></th>\n",
       "      <th>OBJECTID_1</th>\n",
       "      <th>Postcode</th>\n",
       "      <th>District</th>\n",
       "      <th>Sector</th>\n",
       "      <th>DoIntro</th>\n",
       "      <th>Council</th>\n",
       "      <th>OA11</th>\n",
       "      <th>DZ11</th>\n",
       "      <th>EW19</th>\n",
       "      <th>Shape_Leng</th>\n",
       "      <th>Shape_Area</th>\n",
       "      <th>geometry</th>\n",
       "      <th>FeatureCode</th>\n",
       "      <th>DateCode</th>\n",
       "      <th>Measurement</th>\n",
       "      <th>Units</th>\n",
       "      <th>Value</th>\n",
       "    </tr>\n",
       "  </thead>\n",
       "  <tbody>\n",
       "    <tr>\n",
       "      <th>0</th>\n",
       "      <td>62557</td>\n",
       "      <td>G1 1AB</td>\n",
       "      <td>G1</td>\n",
       "      <td>G1 1</td>\n",
       "      <td>2018-01-19</td>\n",
       "      <td>S12000049</td>\n",
       "      <td>S00116298</td>\n",
       "      <td>S01010260</td>\n",
       "      <td>S13002976</td>\n",
       "      <td>106.398986</td>\n",
       "      <td>707.853996</td>\n",
       "      <td>POLYGON ((259641.880 665354.026, 259636.843 66...</td>\n",
       "      <td>S01010260</td>\n",
       "      <td>2014</td>\n",
       "      <td>Mean</td>\n",
       "      <td>Pounds (GBP)</td>\n",
       "      <td>460.96</td>\n",
       "    </tr>\n",
       "    <tr>\n",
       "      <th>1</th>\n",
       "      <td>62573</td>\n",
       "      <td>G1 1EX</td>\n",
       "      <td>G1</td>\n",
       "      <td>G1 1</td>\n",
       "      <td>1973-08-01</td>\n",
       "      <td>S12000049</td>\n",
       "      <td>S00116299</td>\n",
       "      <td>S01010260</td>\n",
       "      <td>S13002976</td>\n",
       "      <td>801.224222</td>\n",
       "      <td>16635.837712</td>\n",
       "      <td>POLYGON ((259807.000 665312.000, 259800.000 66...</td>\n",
       "      <td>S01010260</td>\n",
       "      <td>2014</td>\n",
       "      <td>Mean</td>\n",
       "      <td>Pounds (GBP)</td>\n",
       "      <td>460.96</td>\n",
       "    </tr>\n",
       "    <tr>\n",
       "      <th>2</th>\n",
       "      <td>62581</td>\n",
       "      <td>G1 1HL</td>\n",
       "      <td>G1</td>\n",
       "      <td>G1 1</td>\n",
       "      <td>1973-08-01</td>\n",
       "      <td>S12000049</td>\n",
       "      <td>S00116278</td>\n",
       "      <td>S01010260</td>\n",
       "      <td>S13002976</td>\n",
       "      <td>567.398744</td>\n",
       "      <td>8053.921991</td>\n",
       "      <td>POLYGON ((259541.000 665288.000, 259540.000 66...</td>\n",
       "      <td>S01010260</td>\n",
       "      <td>2014</td>\n",
       "      <td>Mean</td>\n",
       "      <td>Pounds (GBP)</td>\n",
       "      <td>460.96</td>\n",
       "    </tr>\n",
       "    <tr>\n",
       "      <th>3</th>\n",
       "      <td>62582</td>\n",
       "      <td>G1 1HP</td>\n",
       "      <td>G1</td>\n",
       "      <td>G1 1</td>\n",
       "      <td>1993-09-01</td>\n",
       "      <td>S12000049</td>\n",
       "      <td>S00116278</td>\n",
       "      <td>S01010260</td>\n",
       "      <td>S13002976</td>\n",
       "      <td>251.132116</td>\n",
       "      <td>2309.107658</td>\n",
       "      <td>POLYGON ((259424.158 665297.313, 259419.418 66...</td>\n",
       "      <td>S01010260</td>\n",
       "      <td>2014</td>\n",
       "      <td>Mean</td>\n",
       "      <td>Pounds (GBP)</td>\n",
       "      <td>460.96</td>\n",
       "    </tr>\n",
       "    <tr>\n",
       "      <th>4</th>\n",
       "      <td>62583</td>\n",
       "      <td>G1 1JF</td>\n",
       "      <td>G1</td>\n",
       "      <td>G1 1</td>\n",
       "      <td>1973-08-01</td>\n",
       "      <td>S12000049</td>\n",
       "      <td>S00116345</td>\n",
       "      <td>S01010260</td>\n",
       "      <td>S13002976</td>\n",
       "      <td>197.083472</td>\n",
       "      <td>992.616288</td>\n",
       "      <td>POLYGON ((259454.204 665459.632, 259446.520 66...</td>\n",
       "      <td>S01010260</td>\n",
       "      <td>2014</td>\n",
       "      <td>Mean</td>\n",
       "      <td>Pounds (GBP)</td>\n",
       "      <td>460.96</td>\n",
       "    </tr>\n",
       "  </tbody>\n",
       "</table>\n",
       "</div>"
      ],
      "text/plain": [
       "   OBJECTID_1 Postcode District Sector     DoIntro    Council       OA11  \\\n",
       "0       62557   G1 1AB       G1   G1 1  2018-01-19  S12000049  S00116298   \n",
       "1       62573   G1 1EX       G1   G1 1  1973-08-01  S12000049  S00116299   \n",
       "2       62581   G1 1HL       G1   G1 1  1973-08-01  S12000049  S00116278   \n",
       "3       62582   G1 1HP       G1   G1 1  1993-09-01  S12000049  S00116278   \n",
       "4       62583   G1 1JF       G1   G1 1  1973-08-01  S12000049  S00116345   \n",
       "\n",
       "        DZ11       EW19  Shape_Leng    Shape_Area  \\\n",
       "0  S01010260  S13002976  106.398986    707.853996   \n",
       "1  S01010260  S13002976  801.224222  16635.837712   \n",
       "2  S01010260  S13002976  567.398744   8053.921991   \n",
       "3  S01010260  S13002976  251.132116   2309.107658   \n",
       "4  S01010260  S13002976  197.083472    992.616288   \n",
       "\n",
       "                                            geometry FeatureCode  DateCode  \\\n",
       "0  POLYGON ((259641.880 665354.026, 259636.843 66...   S01010260      2014   \n",
       "1  POLYGON ((259807.000 665312.000, 259800.000 66...   S01010260      2014   \n",
       "2  POLYGON ((259541.000 665288.000, 259540.000 66...   S01010260      2014   \n",
       "3  POLYGON ((259424.158 665297.313, 259419.418 66...   S01010260      2014   \n",
       "4  POLYGON ((259454.204 665459.632, 259446.520 66...   S01010260      2014   \n",
       "\n",
       "  Measurement         Units   Value  \n",
       "0        Mean  Pounds (GBP)  460.96  \n",
       "1        Mean  Pounds (GBP)  460.96  \n",
       "2        Mean  Pounds (GBP)  460.96  \n",
       "3        Mean  Pounds (GBP)  460.96  \n",
       "4        Mean  Pounds (GBP)  460.96  "
      ]
     },
     "execution_count": 287,
     "metadata": {},
     "output_type": "execute_result"
    }
   ],
   "source": [
    "FullPostcodeGlasgow_J1.head()"
   ]
  },
  {
   "cell_type": "markdown",
   "metadata": {},
   "source": [
    "### Calculate the mean weekly income for each postcode sector"
   ]
  },
  {
   "cell_type": "code",
   "execution_count": 288,
   "metadata": {},
   "outputs": [],
   "source": [
    "IncomePostcodeSector = FullPostcodeGlasgow_J1.groupby(['Sector']).mean()"
   ]
  },
  {
   "cell_type": "code",
   "execution_count": 292,
   "metadata": {},
   "outputs": [
    {
     "data": {
      "text/plain": [
       "Sector\n",
       "G31 1    425.401023\n",
       "G2 7     428.899630\n",
       "G21 2    435.264463\n",
       "G40 4    440.917312\n",
       "G31 4    444.719615\n",
       "G22 5    445.709182\n",
       "G31 3    450.043116\n",
       "G51 3    450.694437\n",
       "G40 3    452.523608\n",
       "G31 5    457.127576\n",
       "G4 0     457.840000\n",
       "G42 7    459.548293\n",
       "G21 1    473.620594\n",
       "G51 2    476.875952\n",
       "G21 4    477.062774\n",
       "G22 6    478.221509\n",
       "G42 0    478.932692\n",
       "G32 7    484.315440\n",
       "G5 0     485.812686\n",
       "G40 2    486.952909\n",
       "G1 1     488.845368\n",
       "G15 7    493.798033\n",
       "G1 5     496.680333\n",
       "G32 6    497.346980\n",
       "G45 9    498.534219\n",
       "G40 1    499.764267\n",
       "G33 4    506.996532\n",
       "G5 9     507.390694\n",
       "G34 0    508.064000\n",
       "G33 3    513.217299\n",
       "            ...    \n",
       "G3 6     599.742835\n",
       "G3 8     600.976364\n",
       "G32 0    610.457609\n",
       "G15 6    610.508909\n",
       "G23 5    618.345342\n",
       "G44 4    640.654339\n",
       "G20 6    645.927724\n",
       "G42 9    650.781844\n",
       "G11 5    653.444609\n",
       "G5 8     663.902432\n",
       "G41 2    667.866803\n",
       "G11 7    670.349856\n",
       "G52 4    670.772190\n",
       "G3 7     676.641111\n",
       "G41 3    681.359406\n",
       "G12 8    682.522625\n",
       "G44 5    690.772328\n",
       "G41 5    696.097738\n",
       "G14 9    716.980699\n",
       "G53 7    718.999377\n",
       "G33 1    725.428829\n",
       "G13 1    740.594798\n",
       "G12 9    772.384267\n",
       "G12 0    792.942769\n",
       "G33 6    799.138454\n",
       "G44 3    816.475110\n",
       "G43 2    825.015542\n",
       "G46 7    825.866507\n",
       "G41 4    907.671420\n",
       "G46 6    915.830946\n",
       "Name: Value, Length: 101, dtype: float64"
      ]
     },
     "execution_count": 292,
     "metadata": {},
     "output_type": "execute_result"
    }
   ],
   "source": [
    "IncomePostcodeSector['Value'].sort_values()"
   ]
  },
  {
   "cell_type": "markdown",
   "metadata": {},
   "source": [
    "### Now we reach the final stage! Merge Zoopla, EPC, and income data together in a shapefile."
   ]
  },
  {
   "cell_type": "code",
   "execution_count": 293,
   "metadata": {},
   "outputs": [],
   "source": [
    "FinalGlasgow = PostcodeGlasgow_J1.merge(IncomePostcodeSector, left_on = 'Sector', right_on = 'Sector')"
   ]
  },
  {
   "cell_type": "code",
   "execution_count": 295,
   "metadata": {},
   "outputs": [
    {
     "data": {
      "text/html": [
       "<div>\n",
       "<style scoped>\n",
       "    .dataframe tbody tr th:only-of-type {\n",
       "        vertical-align: middle;\n",
       "    }\n",
       "\n",
       "    .dataframe tbody tr th {\n",
       "        vertical-align: top;\n",
       "    }\n",
       "\n",
       "    .dataframe thead th {\n",
       "        text-align: right;\n",
       "    }\n",
       "</style>\n",
       "<table border=\"1\" class=\"dataframe\">\n",
       "  <thead>\n",
       "    <tr style=\"text-align: right;\">\n",
       "      <th></th>\n",
       "      <th>OBJECTID</th>\n",
       "      <th>Sector</th>\n",
       "      <th>Shape_Leng_x</th>\n",
       "      <th>Shape_Area_x</th>\n",
       "      <th>geometry</th>\n",
       "      <th>District</th>\n",
       "      <th>listing_id</th>\n",
       "      <th>property_id</th>\n",
       "      <th>extract_date</th>\n",
       "      <th>result_count</th>\n",
       "      <th>...</th>\n",
       "      <th>Impact Of Solid Wall Insulation</th>\n",
       "      <th>Addendum Text</th>\n",
       "      <th>Unit Energy cost per year</th>\n",
       "      <th>EnergyCostPerYear</th>\n",
       "      <th>TotalEnerngyRentalCost</th>\n",
       "      <th>OBJECTID_1</th>\n",
       "      <th>Shape_Leng_y</th>\n",
       "      <th>Shape_Area_y</th>\n",
       "      <th>DateCode</th>\n",
       "      <th>Value</th>\n",
       "    </tr>\n",
       "  </thead>\n",
       "  <tbody>\n",
       "    <tr>\n",
       "      <th>0</th>\n",
       "      <td>346</td>\n",
       "      <td>G1 1</td>\n",
       "      <td>4541.467998</td>\n",
       "      <td>334875.989304</td>\n",
       "      <td>POLYGON ((259437.000 665598.000, 259482.000 66...</td>\n",
       "      <td>G1</td>\n",
       "      <td>3.481988e+07</td>\n",
       "      <td>1.971486e+07</td>\n",
       "      <td>2.017070e+13</td>\n",
       "      <td>8.912892</td>\n",
       "      <td>...</td>\n",
       "      <td>-456.217143</td>\n",
       "      <td>NaN</td>\n",
       "      <td>101.029612</td>\n",
       "      <td>5310.214983</td>\n",
       "      <td>14433.406621</td>\n",
       "      <td>62604.0</td>\n",
       "      <td>281.854968</td>\n",
       "      <td>3525.010414</td>\n",
       "      <td>2014.0</td>\n",
       "      <td>488.845368</td>\n",
       "    </tr>\n",
       "    <tr>\n",
       "      <th>1</th>\n",
       "      <td>347</td>\n",
       "      <td>G1 2</td>\n",
       "      <td>4990.616669</td>\n",
       "      <td>184045.902873</td>\n",
       "      <td>MULTIPOLYGON (((258979.851 665753.005, 259004....</td>\n",
       "      <td>G1</td>\n",
       "      <td>3.856798e+07</td>\n",
       "      <td>1.769373e+07</td>\n",
       "      <td>2.017064e+13</td>\n",
       "      <td>3.233333</td>\n",
       "      <td>...</td>\n",
       "      <td>-131.210191</td>\n",
       "      <td>NaN</td>\n",
       "      <td>114.455961</td>\n",
       "      <td>5341.278167</td>\n",
       "      <td>13524.344834</td>\n",
       "      <td>62675.0</td>\n",
       "      <td>254.022975</td>\n",
       "      <td>3915.870274</td>\n",
       "      <td>2014.0</td>\n",
       "      <td>513.903617</td>\n",
       "    </tr>\n",
       "    <tr>\n",
       "      <th>2</th>\n",
       "      <td>348</td>\n",
       "      <td>G1 3</td>\n",
       "      <td>1969.103068</td>\n",
       "      <td>103372.740251</td>\n",
       "      <td>POLYGON ((258831.731 665351.411, 258837.117 66...</td>\n",
       "      <td>G1</td>\n",
       "      <td>3.747108e+07</td>\n",
       "      <td>2.362394e+07</td>\n",
       "      <td>2.017068e+13</td>\n",
       "      <td>6.000000</td>\n",
       "      <td>...</td>\n",
       "      <td>-504.679612</td>\n",
       "      <td>NaN</td>\n",
       "      <td>79.551640</td>\n",
       "      <td>4773.098422</td>\n",
       "      <td>15721.326994</td>\n",
       "      <td>62723.5</td>\n",
       "      <td>220.219802</td>\n",
       "      <td>2067.454805</td>\n",
       "      <td>2014.0</td>\n",
       "      <td>546.453400</td>\n",
       "    </tr>\n",
       "    <tr>\n",
       "      <th>3</th>\n",
       "      <td>349</td>\n",
       "      <td>G1 4</td>\n",
       "      <td>3284.953503</td>\n",
       "      <td>195767.064752</td>\n",
       "      <td>MULTIPOLYGON (((258309.000 664914.950, 258294....</td>\n",
       "      <td>G1</td>\n",
       "      <td>3.666225e+07</td>\n",
       "      <td>2.243601e+07</td>\n",
       "      <td>2.017067e+13</td>\n",
       "      <td>8.325581</td>\n",
       "      <td>...</td>\n",
       "      <td>-383.778656</td>\n",
       "      <td>NaN</td>\n",
       "      <td>79.555328</td>\n",
       "      <td>5698.381646</td>\n",
       "      <td>15840.195600</td>\n",
       "      <td>62773.5</td>\n",
       "      <td>279.440606</td>\n",
       "      <td>3915.341295</td>\n",
       "      <td>2014.0</td>\n",
       "      <td>584.325600</td>\n",
       "    </tr>\n",
       "    <tr>\n",
       "      <th>4</th>\n",
       "      <td>350</td>\n",
       "      <td>G1 5</td>\n",
       "      <td>4034.758081</td>\n",
       "      <td>437864.310824</td>\n",
       "      <td>POLYGON ((259449.111 665128.304, 259445.088 66...</td>\n",
       "      <td>G1</td>\n",
       "      <td>3.571428e+07</td>\n",
       "      <td>2.041333e+07</td>\n",
       "      <td>2.017069e+13</td>\n",
       "      <td>5.621145</td>\n",
       "      <td>...</td>\n",
       "      <td>-830.279898</td>\n",
       "      <td>NaN</td>\n",
       "      <td>101.318788</td>\n",
       "      <td>6248.735839</td>\n",
       "      <td>14860.577249</td>\n",
       "      <td>62843.5</td>\n",
       "      <td>284.995257</td>\n",
       "      <td>4865.159009</td>\n",
       "      <td>2014.0</td>\n",
       "      <td>496.680333</td>\n",
       "    </tr>\n",
       "  </tbody>\n",
       "</table>\n",
       "<p>5 rows × 50 columns</p>\n",
       "</div>"
      ],
      "text/plain": [
       "   OBJECTID Sector  Shape_Leng_x   Shape_Area_x  \\\n",
       "0       346   G1 1   4541.467998  334875.989304   \n",
       "1       347   G1 2   4990.616669  184045.902873   \n",
       "2       348   G1 3   1969.103068  103372.740251   \n",
       "3       349   G1 4   3284.953503  195767.064752   \n",
       "4       350   G1 5   4034.758081  437864.310824   \n",
       "\n",
       "                                            geometry District    listing_id  \\\n",
       "0  POLYGON ((259437.000 665598.000, 259482.000 66...       G1  3.481988e+07   \n",
       "1  MULTIPOLYGON (((258979.851 665753.005, 259004....       G1  3.856798e+07   \n",
       "2  POLYGON ((258831.731 665351.411, 258837.117 66...       G1  3.747108e+07   \n",
       "3  MULTIPOLYGON (((258309.000 664914.950, 258294....       G1  3.666225e+07   \n",
       "4  POLYGON ((259449.111 665128.304, 259445.088 66...       G1  3.571428e+07   \n",
       "\n",
       "    property_id  extract_date  result_count  ...  \\\n",
       "0  1.971486e+07  2.017070e+13      8.912892  ...   \n",
       "1  1.769373e+07  2.017064e+13      3.233333  ...   \n",
       "2  2.362394e+07  2.017068e+13      6.000000  ...   \n",
       "3  2.243601e+07  2.017067e+13      8.325581  ...   \n",
       "4  2.041333e+07  2.017069e+13      5.621145  ...   \n",
       "\n",
       "   Impact Of Solid Wall Insulation  Addendum Text  Unit Energy cost per year  \\\n",
       "0                      -456.217143            NaN                 101.029612   \n",
       "1                      -131.210191            NaN                 114.455961   \n",
       "2                      -504.679612            NaN                  79.551640   \n",
       "3                      -383.778656            NaN                  79.555328   \n",
       "4                      -830.279898            NaN                 101.318788   \n",
       "\n",
       "   EnergyCostPerYear  TotalEnerngyRentalCost  OBJECTID_1  Shape_Leng_y  \\\n",
       "0        5310.214983            14433.406621     62604.0    281.854968   \n",
       "1        5341.278167            13524.344834     62675.0    254.022975   \n",
       "2        4773.098422            15721.326994     62723.5    220.219802   \n",
       "3        5698.381646            15840.195600     62773.5    279.440606   \n",
       "4        6248.735839            14860.577249     62843.5    284.995257   \n",
       "\n",
       "   Shape_Area_y  DateCode       Value  \n",
       "0   3525.010414    2014.0  488.845368  \n",
       "1   3915.870274    2014.0  513.903617  \n",
       "2   2067.454805    2014.0  546.453400  \n",
       "3   3915.341295    2014.0  584.325600  \n",
       "4   4865.159009    2014.0  496.680333  \n",
       "\n",
       "[5 rows x 50 columns]"
      ]
     },
     "execution_count": 295,
     "metadata": {},
     "output_type": "execute_result"
    }
   ],
   "source": [
    "FinalGlasgow.head()"
   ]
  },
  {
   "cell_type": "markdown",
   "metadata": {},
   "source": [
    "### Now we can calculate the ratio between energy cost vs income, rental cost vs income, and energy + rental cost vs income and identify fuel poverty areas. If private rental residents have spend a large portion of money on their rental and energy cost, that means they do not have much money to spend on their own life. "
   ]
  },
  {
   "cell_type": "code",
   "execution_count": 296,
   "metadata": {},
   "outputs": [],
   "source": [
    "FinalGlasgow['AllRatio'] = FinalGlasgow['TotalEnerngyRentalCost']/(FinalGlasgow['Value']*52)\n",
    "FinalGlasgow['EnergyRatio'] = FinalGlasgow['EnergyCostPerYear']/(FinalGlasgow['Value']*52)\n",
    "FinalGlasgow['RentalRatio'] = FinalGlasgow['YearlyRent']/(FinalGlasgow['Value']*52)"
   ]
  },
  {
   "cell_type": "markdown",
   "metadata": {},
   "source": [
    "### Final dataframe and I exported the data from geopandas dataframe to shapefile for visualization"
   ]
  },
  {
   "cell_type": "code",
   "execution_count": 298,
   "metadata": {},
   "outputs": [
    {
     "data": {
      "text/html": [
       "<div>\n",
       "<style scoped>\n",
       "    .dataframe tbody tr th:only-of-type {\n",
       "        vertical-align: middle;\n",
       "    }\n",
       "\n",
       "    .dataframe tbody tr th {\n",
       "        vertical-align: top;\n",
       "    }\n",
       "\n",
       "    .dataframe thead th {\n",
       "        text-align: right;\n",
       "    }\n",
       "</style>\n",
       "<table border=\"1\" class=\"dataframe\">\n",
       "  <thead>\n",
       "    <tr style=\"text-align: right;\">\n",
       "      <th></th>\n",
       "      <th>OBJECTID</th>\n",
       "      <th>Sector</th>\n",
       "      <th>Shape_Leng_x</th>\n",
       "      <th>Shape_Area_x</th>\n",
       "      <th>geometry</th>\n",
       "      <th>District</th>\n",
       "      <th>listing_id</th>\n",
       "      <th>property_id</th>\n",
       "      <th>extract_date</th>\n",
       "      <th>result_count</th>\n",
       "      <th>...</th>\n",
       "      <th>EnergyCostPerYear</th>\n",
       "      <th>TotalEnerngyRentalCost</th>\n",
       "      <th>OBJECTID_1</th>\n",
       "      <th>Shape_Leng_y</th>\n",
       "      <th>Shape_Area_y</th>\n",
       "      <th>DateCode</th>\n",
       "      <th>Value</th>\n",
       "      <th>AllRatio</th>\n",
       "      <th>EnergyRatio</th>\n",
       "      <th>RentalRatio</th>\n",
       "    </tr>\n",
       "  </thead>\n",
       "  <tbody>\n",
       "    <tr>\n",
       "      <th>0</th>\n",
       "      <td>346</td>\n",
       "      <td>G1 1</td>\n",
       "      <td>4541.467998</td>\n",
       "      <td>334875.989304</td>\n",
       "      <td>POLYGON ((259437.000 665598.000, 259482.000 66...</td>\n",
       "      <td>G1</td>\n",
       "      <td>3.481988e+07</td>\n",
       "      <td>1.971486e+07</td>\n",
       "      <td>2.017070e+13</td>\n",
       "      <td>8.912892</td>\n",
       "      <td>...</td>\n",
       "      <td>5310.214983</td>\n",
       "      <td>14433.406621</td>\n",
       "      <td>62604.0</td>\n",
       "      <td>281.854968</td>\n",
       "      <td>3525.010414</td>\n",
       "      <td>2014.0</td>\n",
       "      <td>488.845368</td>\n",
       "      <td>0.567798</td>\n",
       "      <td>0.208899</td>\n",
       "      <td>0.358899</td>\n",
       "    </tr>\n",
       "    <tr>\n",
       "      <th>1</th>\n",
       "      <td>347</td>\n",
       "      <td>G1 2</td>\n",
       "      <td>4990.616669</td>\n",
       "      <td>184045.902873</td>\n",
       "      <td>MULTIPOLYGON (((258979.851 665753.005, 259004....</td>\n",
       "      <td>G1</td>\n",
       "      <td>3.856798e+07</td>\n",
       "      <td>1.769373e+07</td>\n",
       "      <td>2.017064e+13</td>\n",
       "      <td>3.233333</td>\n",
       "      <td>...</td>\n",
       "      <td>5341.278167</td>\n",
       "      <td>13524.344834</td>\n",
       "      <td>62675.0</td>\n",
       "      <td>254.022975</td>\n",
       "      <td>3915.870274</td>\n",
       "      <td>2014.0</td>\n",
       "      <td>513.903617</td>\n",
       "      <td>0.506094</td>\n",
       "      <td>0.199876</td>\n",
       "      <td>0.306218</td>\n",
       "    </tr>\n",
       "    <tr>\n",
       "      <th>2</th>\n",
       "      <td>348</td>\n",
       "      <td>G1 3</td>\n",
       "      <td>1969.103068</td>\n",
       "      <td>103372.740251</td>\n",
       "      <td>POLYGON ((258831.731 665351.411, 258837.117 66...</td>\n",
       "      <td>G1</td>\n",
       "      <td>3.747108e+07</td>\n",
       "      <td>2.362394e+07</td>\n",
       "      <td>2.017068e+13</td>\n",
       "      <td>6.000000</td>\n",
       "      <td>...</td>\n",
       "      <td>4773.098422</td>\n",
       "      <td>15721.326994</td>\n",
       "      <td>62723.5</td>\n",
       "      <td>220.219802</td>\n",
       "      <td>2067.454805</td>\n",
       "      <td>2014.0</td>\n",
       "      <td>546.453400</td>\n",
       "      <td>0.553264</td>\n",
       "      <td>0.167975</td>\n",
       "      <td>0.385290</td>\n",
       "    </tr>\n",
       "    <tr>\n",
       "      <th>3</th>\n",
       "      <td>349</td>\n",
       "      <td>G1 4</td>\n",
       "      <td>3284.953503</td>\n",
       "      <td>195767.064752</td>\n",
       "      <td>MULTIPOLYGON (((258309.000 664914.950, 258294....</td>\n",
       "      <td>G1</td>\n",
       "      <td>3.666225e+07</td>\n",
       "      <td>2.243601e+07</td>\n",
       "      <td>2.017067e+13</td>\n",
       "      <td>8.325581</td>\n",
       "      <td>...</td>\n",
       "      <td>5698.381646</td>\n",
       "      <td>15840.195600</td>\n",
       "      <td>62773.5</td>\n",
       "      <td>279.440606</td>\n",
       "      <td>3915.341295</td>\n",
       "      <td>2014.0</td>\n",
       "      <td>584.325600</td>\n",
       "      <td>0.521317</td>\n",
       "      <td>0.187540</td>\n",
       "      <td>0.333778</td>\n",
       "    </tr>\n",
       "    <tr>\n",
       "      <th>4</th>\n",
       "      <td>350</td>\n",
       "      <td>G1 5</td>\n",
       "      <td>4034.758081</td>\n",
       "      <td>437864.310824</td>\n",
       "      <td>POLYGON ((259449.111 665128.304, 259445.088 66...</td>\n",
       "      <td>G1</td>\n",
       "      <td>3.571428e+07</td>\n",
       "      <td>2.041333e+07</td>\n",
       "      <td>2.017069e+13</td>\n",
       "      <td>5.621145</td>\n",
       "      <td>...</td>\n",
       "      <td>6248.735839</td>\n",
       "      <td>14860.577249</td>\n",
       "      <td>62843.5</td>\n",
       "      <td>284.995257</td>\n",
       "      <td>4865.159009</td>\n",
       "      <td>2014.0</td>\n",
       "      <td>496.680333</td>\n",
       "      <td>0.575381</td>\n",
       "      <td>0.241942</td>\n",
       "      <td>0.333438</td>\n",
       "    </tr>\n",
       "  </tbody>\n",
       "</table>\n",
       "<p>5 rows × 53 columns</p>\n",
       "</div>"
      ],
      "text/plain": [
       "   OBJECTID Sector  Shape_Leng_x   Shape_Area_x  \\\n",
       "0       346   G1 1   4541.467998  334875.989304   \n",
       "1       347   G1 2   4990.616669  184045.902873   \n",
       "2       348   G1 3   1969.103068  103372.740251   \n",
       "3       349   G1 4   3284.953503  195767.064752   \n",
       "4       350   G1 5   4034.758081  437864.310824   \n",
       "\n",
       "                                            geometry District    listing_id  \\\n",
       "0  POLYGON ((259437.000 665598.000, 259482.000 66...       G1  3.481988e+07   \n",
       "1  MULTIPOLYGON (((258979.851 665753.005, 259004....       G1  3.856798e+07   \n",
       "2  POLYGON ((258831.731 665351.411, 258837.117 66...       G1  3.747108e+07   \n",
       "3  MULTIPOLYGON (((258309.000 664914.950, 258294....       G1  3.666225e+07   \n",
       "4  POLYGON ((259449.111 665128.304, 259445.088 66...       G1  3.571428e+07   \n",
       "\n",
       "    property_id  extract_date  result_count  ...  EnergyCostPerYear  \\\n",
       "0  1.971486e+07  2.017070e+13      8.912892  ...        5310.214983   \n",
       "1  1.769373e+07  2.017064e+13      3.233333  ...        5341.278167   \n",
       "2  2.362394e+07  2.017068e+13      6.000000  ...        4773.098422   \n",
       "3  2.243601e+07  2.017067e+13      8.325581  ...        5698.381646   \n",
       "4  2.041333e+07  2.017069e+13      5.621145  ...        6248.735839   \n",
       "\n",
       "   TotalEnerngyRentalCost  OBJECTID_1  Shape_Leng_y  Shape_Area_y  DateCode  \\\n",
       "0            14433.406621     62604.0    281.854968   3525.010414    2014.0   \n",
       "1            13524.344834     62675.0    254.022975   3915.870274    2014.0   \n",
       "2            15721.326994     62723.5    220.219802   2067.454805    2014.0   \n",
       "3            15840.195600     62773.5    279.440606   3915.341295    2014.0   \n",
       "4            14860.577249     62843.5    284.995257   4865.159009    2014.0   \n",
       "\n",
       "        Value  AllRatio  EnergyRatio  RentalRatio  \n",
       "0  488.845368  0.567798     0.208899     0.358899  \n",
       "1  513.903617  0.506094     0.199876     0.306218  \n",
       "2  546.453400  0.553264     0.167975     0.385290  \n",
       "3  584.325600  0.521317     0.187540     0.333778  \n",
       "4  496.680333  0.575381     0.241942     0.333438  \n",
       "\n",
       "[5 rows x 53 columns]"
      ]
     },
     "execution_count": 298,
     "metadata": {},
     "output_type": "execute_result"
    }
   ],
   "source": [
    "FinalGlasgow.head()"
   ]
  },
  {
   "cell_type": "code",
   "execution_count": 299,
   "metadata": {},
   "outputs": [],
   "source": [
    "FinalGlasgow.to_file(\"FuelPoverty.shp\")"
   ]
  },
  {
   "cell_type": "code",
   "execution_count": null,
   "metadata": {},
   "outputs": [],
   "source": []
  }
 ],
 "metadata": {
  "kernelspec": {
   "display_name": "Python 3",
   "language": "python",
   "name": "python3"
  },
  "language_info": {
   "codemirror_mode": {
    "name": "ipython",
    "version": 3
   },
   "file_extension": ".py",
   "mimetype": "text/x-python",
   "name": "python",
   "nbconvert_exporter": "python",
   "pygments_lexer": "ipython3",
   "version": "3.7.6"
  }
 },
 "nbformat": 4,
 "nbformat_minor": 4
}
